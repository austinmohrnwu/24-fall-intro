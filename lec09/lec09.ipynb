{
 "cells": [
  {
   "cell_type": "code",
   "execution_count": 2,
   "metadata": {},
   "outputs": [],
   "source": [
    "from datascience import *\n",
    "import numpy as np\n",
    "\n",
    "%matplotlib inline\n",
    "import matplotlib.pyplot as plots\n",
    "plots.style.use('fivethirtyeight')\n",
    "import warnings\n",
    "#warnings.simplefilter(action='ignore',category=np.VisibleDeprecationWarning)"
   ]
  },
  {
   "cell_type": "markdown",
   "metadata": {},
   "source": [
    "## Lecture 9 ##"
   ]
  },
  {
   "cell_type": "markdown",
   "metadata": {},
   "source": [
    "## Prediction ##"
   ]
  },
  {
   "cell_type": "code",
   "execution_count": 37,
   "metadata": {
    "scrolled": true
   },
   "outputs": [
    {
     "data": {
      "text/html": [
       "<table border=\"1\" class=\"dataframe\">\n",
       "    <thead>\n",
       "        <tr>\n",
       "            <th>family</th> <th>father</th> <th>mother</th> <th>child</th> <th>children</th> <th>order</th> <th>sex</th>\n",
       "        </tr>\n",
       "    </thead>\n",
       "    <tbody>\n",
       "        <tr>\n",
       "            <td>1     </td> <td>78.5  </td> <td>67    </td> <td>73.2 </td> <td>4       </td> <td>1    </td> <td>male  </td>\n",
       "        </tr>\n",
       "        <tr>\n",
       "            <td>1     </td> <td>78.5  </td> <td>67    </td> <td>69.2 </td> <td>4       </td> <td>2    </td> <td>female</td>\n",
       "        </tr>\n",
       "        <tr>\n",
       "            <td>1     </td> <td>78.5  </td> <td>67    </td> <td>69   </td> <td>4       </td> <td>3    </td> <td>female</td>\n",
       "        </tr>\n",
       "        <tr>\n",
       "            <td>1     </td> <td>78.5  </td> <td>67    </td> <td>69   </td> <td>4       </td> <td>4    </td> <td>female</td>\n",
       "        </tr>\n",
       "        <tr>\n",
       "            <td>2     </td> <td>75.5  </td> <td>66.5  </td> <td>73.5 </td> <td>4       </td> <td>1    </td> <td>male  </td>\n",
       "        </tr>\n",
       "        <tr>\n",
       "            <td>2     </td> <td>75.5  </td> <td>66.5  </td> <td>72.5 </td> <td>4       </td> <td>2    </td> <td>male  </td>\n",
       "        </tr>\n",
       "        <tr>\n",
       "            <td>2     </td> <td>75.5  </td> <td>66.5  </td> <td>65.5 </td> <td>4       </td> <td>3    </td> <td>female</td>\n",
       "        </tr>\n",
       "        <tr>\n",
       "            <td>2     </td> <td>75.5  </td> <td>66.5  </td> <td>65.5 </td> <td>4       </td> <td>4    </td> <td>female</td>\n",
       "        </tr>\n",
       "        <tr>\n",
       "            <td>3     </td> <td>75    </td> <td>64    </td> <td>71   </td> <td>2       </td> <td>1    </td> <td>male  </td>\n",
       "        </tr>\n",
       "        <tr>\n",
       "            <td>3     </td> <td>75    </td> <td>64    </td> <td>68   </td> <td>2       </td> <td>2    </td> <td>female</td>\n",
       "        </tr>\n",
       "    </tbody>\n",
       "</table>\n",
       "<p>... (924 rows omitted)</p>"
      ],
      "text/plain": [
       "family | father | mother | child | children | order | sex\n",
       "1      | 78.5   | 67     | 73.2  | 4        | 1     | male\n",
       "1      | 78.5   | 67     | 69.2  | 4        | 2     | female\n",
       "1      | 78.5   | 67     | 69    | 4        | 3     | female\n",
       "1      | 78.5   | 67     | 69    | 4        | 4     | female\n",
       "2      | 75.5   | 66.5   | 73.5  | 4        | 1     | male\n",
       "2      | 75.5   | 66.5   | 72.5  | 4        | 2     | male\n",
       "2      | 75.5   | 66.5   | 65.5  | 4        | 3     | female\n",
       "2      | 75.5   | 66.5   | 65.5  | 4        | 4     | female\n",
       "3      | 75     | 64     | 71    | 2        | 1     | male\n",
       "3      | 75     | 64     | 68    | 2        | 2     | female\n",
       "... (924 rows omitted)"
      ]
     },
     "execution_count": 37,
     "metadata": {},
     "output_type": "execute_result"
    }
   ],
   "source": [
    "families = Table.read_table('family_heights.csv')\n",
    "families"
   ]
  },
  {
   "cell_type": "code",
   "execution_count": 39,
   "metadata": {},
   "outputs": [
    {
     "data": {
      "text/plain": [
       "array([ 72.75,  72.75,  72.75,  72.75,  71.  ,  71.  ,  71.  ,  71.  ,\n",
       "        69.5 ,  69.5 ,  69.5 ,  69.5 ,  69.5 ,  69.5 ,  69.5 ,  66.75,\n",
       "        66.75,  66.75,  66.75,  66.75,  66.75,  71.  ,  71.  ,  71.  ,\n",
       "        71.  ,  71.  ,  71.  ,  71.  ,  70.25,  70.25,  70.25,  70.25,\n",
       "        69.75,  68.  ,  68.  ,  68.  ,  68.  ,  68.  ,  68.  ,  68.  ,\n",
       "        68.  ,  67.5 ,  70.  ,  70.  ,  70.  ,  70.  ,  69.75,  69.75,\n",
       "        69.75,  69.  ,  69.  ,  69.  ,  69.  ,  69.  ,  69.  ,  69.  ,\n",
       "        69.  ,  69.  ,  68.75,  68.75,  68.75,  68.75,  68.75,  68.75,\n",
       "        68.5 ,  68.5 ,  68.5 ,  68.1 ,  70.85,  70.85,  70.85,  70.85,\n",
       "        70.85,  70.85,  70.85,  70.85,  70.  ,  70.  ,  70.  ,  69.5 ,\n",
       "        69.5 ,  69.5 ,  68.5 ,  68.5 ,  68.5 ,  68.5 ,  68.5 ,  68.5 ,\n",
       "        68.5 ,  68.75,  68.  ,  68.  ,  67.5 ,  67.5 ,  67.5 ,  67.5 ,\n",
       "        67.5 ,  67.5 ,  67.5 ,  67.5 ,  67.5 ,  67.5 ,  67.5 ,  67.5 ,\n",
       "        67.5 ,  67.5 ,  68.  ,  68.  ,  68.  ,  67.  ,  67.25,  67.25,\n",
       "        67.25,  67.25,  67.25,  67.25,  67.  ,  67.  ,  67.  ,  67.  ,\n",
       "        67.  ,  67.  ,  67.  ,  67.  ,  67.  ,  67.  ,  66.5 ,  70.  ,\n",
       "        70.  ,  70.  ,  70.  ,  70.  ,  69.  ,  69.  ,  69.  ,  69.  ,\n",
       "        68.5 ,  68.5 ,  68.5 ,  68.5 ,  68.5 ,  68.5 ,  68.5 ,  68.5 ,\n",
       "        68.5 ,  68.5 ,  68.5 ,  68.5 ,  68.5 ,  68.5 ,  68.5 ,  68.5 ,\n",
       "        68.5 ,  68.6 ,  68.25,  68.25,  68.25,  68.25,  68.25,  68.25,\n",
       "        68.5 ,  68.5 ,  68.25,  68.25,  68.  ,  68.  ,  68.  ,  67.5 ,\n",
       "        67.5 ,  67.5 ,  67.5 ,  67.5 ,  67.5 ,  67.5 ,  67.5 ,  68.1 ,\n",
       "        68.1 ,  68.1 ,  68.1 ,  67.5 ,  67.5 ,  67.5 ,  68.  ,  68.  ,\n",
       "        68.  ,  68.  ,  68.  ,  68.  ,  68.  ,  67.75,  67.75,  67.1 ,\n",
       "        67.1 ,  67.25,  67.25,  67.25,  67.25,  67.25,  67.  ,  67.  ,\n",
       "        67.  ,  67.  ,  67.  ,  67.  ,  67.  ,  67.  ,  67.  ,  67.  ,\n",
       "        67.  ,  67.  ,  67.  ,  66.5 ,  66.5 ,  66.5 ,  66.5 ,  66.5 ,\n",
       "        66.5 ,  66.5 ,  66.5 ,  66.5 ,  66.5 ,  66.75,  66.75,  66.75,\n",
       "        66.75,  66.75,  66.5 ,  66.5 ,  66.5 ,  66.5 ,  66.5 ,  66.5 ,\n",
       "        66.5 ,  66.  ,  64.5 ,  64.5 ,  69.5 ,  69.5 ,  69.5 ,  69.5 ,\n",
       "        69.5 ,  69.5 ,  69.5 ,  69.5 ,  69.5 ,  69.5 ,  69.  ,  68.5 ,\n",
       "        68.5 ,  68.5 ,  68.5 ,  68.5 ,  68.5 ,  68.25,  68.25,  68.25,\n",
       "        68.25,  68.25,  68.25,  68.25,  68.25,  68.25,  68.25,  68.25,\n",
       "        67.75,  67.75,  67.75,  67.75,  67.75,  67.75,  67.75,  67.75,\n",
       "        67.75,  67.5 ,  67.5 ,  67.5 ,  67.5 ,  67.5 ,  67.5 ,  67.5 ,\n",
       "        67.5 ,  67.5 ,  67.5 ,  67.5 ,  67.5 ,  67.5 ,  67.5 ,  67.5 ,\n",
       "        67.5 ,  67.5 ,  67.5 ,  67.5 ,  67.5 ,  67.5 ,  67.5 ,  67.5 ,\n",
       "        67.5 ,  67.5 ,  67.5 ,  67.5 ,  67.5 ,  67.5 ,  67.5 ,  67.5 ,\n",
       "        67.35,  67.35,  67.35,  67.35,  67.35,  67.35,  67.35,  67.  ,\n",
       "        67.  ,  67.  ,  67.  ,  67.  ,  67.  ,  67.  ,  67.  ,  67.  ,\n",
       "        67.  ,  67.  ,  67.1 ,  67.1 ,  67.1 ,  67.1 ,  67.1 ,  67.25,\n",
       "        67.25,  67.25,  67.25,  67.25,  67.25,  67.25,  67.25,  67.5 ,\n",
       "        67.  ,  67.  ,  67.  ,  67.  ,  67.  ,  67.  ,  67.  ,  67.  ,\n",
       "        67.  ,  67.  ,  67.  ,  67.  ,  67.  ,  66.85,  66.85,  66.85,\n",
       "        66.85,  66.85,  66.85,  66.85,  66.85,  66.75,  66.75,  66.75,\n",
       "        66.75,  66.75,  66.75,  66.75,  66.75,  66.75,  66.75,  66.75,\n",
       "        66.75,  66.75,  66.5 ,  66.5 ,  66.5 ,  66.5 ,  66.5 ,  66.5 ,\n",
       "        66.5 ,  66.5 ,  66.25,  66.25,  66.25,  66.25,  66.25,  66.25,\n",
       "        66.25,  66.25,  66.5 ,  66.5 ,  66.5 ,  66.5 ,  66.5 ,  66.5 ,\n",
       "        66.5 ,  66.25,  66.25,  66.25,  65.5 ,  65.5 ,  65.  ,  65.  ,\n",
       "        65.  ,  65.  ,  65.  ,  65.  ,  64.25,  64.25,  64.25,  64.  ,\n",
       "        64.  ,  64.  ,  64.  ,  64.  ,  68.75,  68.75,  68.75,  68.75,\n",
       "        68.75,  68.75,  68.75,  68.75,  68.75,  68.75,  68.  ,  67.5 ,\n",
       "        67.5 ,  67.5 ,  67.5 ,  67.5 ,  67.5 ,  67.5 ,  67.5 ,  67.5 ,\n",
       "        67.5 ,  67.5 ,  67.85,  67.85,  67.85,  67.85,  67.5 ,  67.5 ,\n",
       "        67.5 ,  67.5 ,  67.5 ,  67.5 ,  67.75,  67.75,  67.75,  67.75,\n",
       "        67.75,  67.75,  67.75,  68.  ,  68.  ,  68.  ,  68.  ,  67.75,\n",
       "        67.75,  67.75,  67.75,  67.75,  67.75,  67.75,  67.75,  67.75,\n",
       "        67.75,  67.75,  67.75,  67.75,  67.5 ,  67.5 ,  67.5 ,  67.5 ,\n",
       "        67.5 ,  67.5 ,  67.5 ,  67.5 ,  67.5 ,  67.  ,  67.  ,  67.  ,\n",
       "        67.  ,  67.  ,  67.  ,  67.  ,  67.  ,  67.  ,  67.  ,  67.  ,\n",
       "        67.  ,  67.  ,  67.  ,  66.6 ,  66.6 ,  66.6 ,  66.6 ,  66.25,\n",
       "        66.  ,  66.  ,  66.  ,  66.  ,  66.  ,  66.  ,  66.  ,  66.  ,\n",
       "        66.  ,  66.  ,  66.25,  66.25,  66.25,  66.25,  66.25,  66.25,\n",
       "        66.25,  66.25,  66.25,  66.25,  65.85,  65.75,  65.75,  65.75,\n",
       "        65.5 ,  65.5 ,  65.5 ,  65.5 ,  65.5 ,  65.75,  65.75,  65.75,\n",
       "        65.75,  65.75,  65.75,  65.75,  65.75,  65.75,  65.75,  65.75,\n",
       "        65.75,  65.75,  65.75,  65.75,  65.75,  65.75,  65.75,  65.75,\n",
       "        65.5 ,  65.5 ,  65.5 ,  65.5 ,  65.25,  65.25,  65.25,  65.25,\n",
       "        65.25,  65.  ,  65.  ,  65.  ,  65.  ,  65.  ,  65.  ,  65.  ,\n",
       "        65.  ,  65.  ,  64.5 ,  64.5 ,  64.5 ,  64.5 ,  64.5 ,  64.5 ,\n",
       "        64.5 ,  64.75,  69.6 ,  69.6 ,  67.75,  67.75,  67.75,  67.5 ,\n",
       "        67.5 ,  67.5 ,  67.5 ,  67.5 ,  67.5 ,  67.5 ,  67.5 ,  67.5 ,\n",
       "        67.5 ,  67.5 ,  66.5 ,  66.5 ,  66.75,  66.75,  66.75,  66.75,\n",
       "        66.75,  66.75,  66.75,  66.75,  66.75,  66.5 ,  66.5 ,  66.5 ,\n",
       "        66.5 ,  66.75,  66.75,  66.75,  66.75,  66.75,  66.75,  66.75,\n",
       "        66.75,  66.75,  66.75,  66.75,  66.75,  66.75,  66.75,  66.75,\n",
       "        66.75,  66.  ,  66.  ,  66.  ,  66.  ,  66.  ,  66.  ,  66.  ,\n",
       "        66.  ,  66.  ,  66.  ,  66.  ,  66.  ,  66.  ,  66.  ,  66.  ,\n",
       "        66.  ,  66.  ,  66.  ,  66.  ,  66.25,  66.  ,  66.  ,  66.  ,\n",
       "        66.  ,  66.  ,  66.  ,  66.  ,  66.  ,  66.  ,  66.  ,  65.5 ,\n",
       "        65.5 ,  65.5 ,  65.5 ,  65.5 ,  65.5 ,  65.5 ,  65.5 ,  66.  ,\n",
       "        66.  ,  66.  ,  66.  ,  65.5 ,  65.5 ,  65.5 ,  65.5 ,  65.5 ,\n",
       "        65.5 ,  65.5 ,  65.5 ,  65.5 ,  65.5 ,  65.5 ,  65.5 ,  65.5 ,\n",
       "        65.5 ,  65.5 ,  65.5 ,  65.5 ,  65.5 ,  65.5 ,  66.  ,  65.5 ,\n",
       "        65.85,  65.85,  65.85,  65.85,  65.85,  65.25,  65.35,  65.35,\n",
       "        65.25,  64.5 ,  64.5 ,  64.5 ,  64.5 ,  64.5 ,  64.1 ,  64.  ,\n",
       "        64.  ,  64.  ,  64.  ,  64.  ,  64.  ,  64.  ,  64.  ,  64.  ,\n",
       "        64.  ,  64.  ,  63.75,  63.5 ,  63.5 ,  63.5 ,  63.5 ,  63.5 ,\n",
       "        63.5 ,  63.5 ,  63.5 ,  63.5 ,  63.5 ,  66.6 ,  66.6 ,  66.6 ,\n",
       "        66.6 ,  66.6 ,  66.75,  66.5 ,  66.5 ,  66.5 ,  66.5 ,  66.5 ,\n",
       "        66.5 ,  66.5 ,  66.5 ,  66.  ,  66.  ,  66.  ,  66.  ,  66.  ,\n",
       "        66.  ,  66.25,  66.25,  66.25,  66.25,  66.25,  66.25,  66.25,\n",
       "        66.25,  66.25,  66.  ,  66.  ,  66.  ,  66.25,  66.25,  66.25,\n",
       "        66.25,  66.25,  66.25,  66.25,  66.25,  66.25,  66.25,  66.25,\n",
       "        65.5 ,  65.5 ,  65.5 ,  65.5 ,  65.25,  65.25,  65.25,  65.25,\n",
       "        65.25,  65.25,  65.25,  65.25,  65.  ,  65.  ,  65.  ,  64.75,\n",
       "        64.75,  64.75,  64.75,  64.75,  64.  ,  66.5 ,  66.5 ,  66.5 ,\n",
       "        66.5 ,  66.5 ,  66.5 ,  66.5 ,  66.5 ,  66.5 ,  66.5 ,  66.5 ,\n",
       "        66.5 ,  66.5 ,  66.5 ,  66.5 ,  66.5 ,  66.5 ,  66.  ,  66.  ,\n",
       "        66.  ,  66.  ,  66.  ,  66.  ,  66.  ,  66.  ,  66.  ,  66.  ,\n",
       "        66.  ,  65.75,  65.75,  65.75,  65.75,  65.75,  65.75,  65.75,\n",
       "        65.75,  65.75,  65.75,  65.75,  65.75,  65.75,  64.5 ,  64.75,\n",
       "        64.75,  64.75,  64.75,  64.75,  64.75,  64.75,  64.75,  64.5 ,\n",
       "        64.5 ,  64.5 ,  64.5 ,  64.5 ,  64.5 ,  64.5 ,  63.75,  63.  ,\n",
       "        63.  ,  63.  ,  63.  ,  63.  ,  62.5 ,  62.5 ,  62.5 ,  62.5 ,\n",
       "        62.5 ,  62.5 ,  62.5 ,  62.5 ,  62.5 ,  62.5 ,  62.5 ,  62.5 ,\n",
       "        62.5 ,  62.5 ,  62.5 ,  66.  ,  66.  ,  66.  ,  66.  ,  66.  ,\n",
       "        65.5 ,  65.5 ,  65.5 ,  65.5 ,  65.5 ,  65.5 ,  65.5 ,  65.5 ,\n",
       "        65.5 ,  65.  ,  65.  ,  65.  ,  65.  ,  65.  ,  65.  ,  65.  ,\n",
       "        65.  ,  65.  ,  65.25,  65.25,  65.  ,  65.  ,  65.  ,  65.  ,\n",
       "        65.  ,  65.  ,  64.5 ,  64.5 ,  64.5 ,  64.5 ,  64.5 ,  64.5 ,\n",
       "        64.  ,  64.  ,  64.  ,  64.  ,  64.  ,  64.25,  64.25,  64.25,\n",
       "        64.25,  62.75,  62.75,  62.75,  62.75,  62.75,  64.  ,  64.  ,\n",
       "        64.  ,  64.  ,  64.  ,  64.  ,  64.  ,  64.  ,  64.  ,  64.  ,\n",
       "        64.  ,  64.  ,  64.  ,  64.  ,  63.5 ,  62.  ,  62.  ,  63.25,\n",
       "        63.25,  64.  ,  64.  ,  64.  ,  62.75,  62.75])"
      ]
     },
     "execution_count": 39,
     "metadata": {},
     "output_type": "execute_result"
    }
   ],
   "source": [
    "parent_avgs = (families.column('father') + families.column('mother'))/2\n",
    "parent_avgs"
   ]
  },
  {
   "cell_type": "code",
   "execution_count": 41,
   "metadata": {},
   "outputs": [
    {
     "data": {
      "text/html": [
       "<table border=\"1\" class=\"dataframe\">\n",
       "    <thead>\n",
       "        <tr>\n",
       "            <th>Parent Average</th> <th>Child</th> <th>Sex</th>\n",
       "        </tr>\n",
       "    </thead>\n",
       "    <tbody>\n",
       "        <tr>\n",
       "            <td>72.75         </td> <td>73.2 </td> <td>male  </td>\n",
       "        </tr>\n",
       "        <tr>\n",
       "            <td>72.75         </td> <td>69.2 </td> <td>female</td>\n",
       "        </tr>\n",
       "        <tr>\n",
       "            <td>72.75         </td> <td>69   </td> <td>female</td>\n",
       "        </tr>\n",
       "        <tr>\n",
       "            <td>72.75         </td> <td>69   </td> <td>female</td>\n",
       "        </tr>\n",
       "        <tr>\n",
       "            <td>71            </td> <td>73.5 </td> <td>male  </td>\n",
       "        </tr>\n",
       "        <tr>\n",
       "            <td>71            </td> <td>72.5 </td> <td>male  </td>\n",
       "        </tr>\n",
       "        <tr>\n",
       "            <td>71            </td> <td>65.5 </td> <td>female</td>\n",
       "        </tr>\n",
       "        <tr>\n",
       "            <td>71            </td> <td>65.5 </td> <td>female</td>\n",
       "        </tr>\n",
       "        <tr>\n",
       "            <td>69.5          </td> <td>71   </td> <td>male  </td>\n",
       "        </tr>\n",
       "        <tr>\n",
       "            <td>69.5          </td> <td>68   </td> <td>female</td>\n",
       "        </tr>\n",
       "    </tbody>\n",
       "</table>\n",
       "<p>... (924 rows omitted)</p>"
      ],
      "text/plain": [
       "Parent Average | Child | Sex\n",
       "72.75          | 73.2  | male\n",
       "72.75          | 69.2  | female\n",
       "72.75          | 69    | female\n",
       "72.75          | 69    | female\n",
       "71             | 73.5  | male\n",
       "71             | 72.5  | male\n",
       "71             | 65.5  | female\n",
       "71             | 65.5  | female\n",
       "69.5           | 71    | male\n",
       "69.5           | 68    | female\n",
       "... (924 rows omitted)"
      ]
     },
     "execution_count": 41,
     "metadata": {},
     "output_type": "execute_result"
    }
   ],
   "source": [
    "heights = Table().with_columns(\n",
    "    'Parent Average', parent_avgs,\n",
    "    'Child', families.column('child'),\n",
    "    'Sex', families.column('sex')\n",
    ")\n",
    "heights"
   ]
  },
  {
   "cell_type": "code",
   "execution_count": 43,
   "metadata": {},
   "outputs": [
    {
     "data": {
      "image/png": "[encoded data removed]",
      "text/plain": [
       "<Figure size 500x500 with 1 Axes>"
      ]
     },
     "metadata": {},
     "output_type": "display_data"
    }
   ],
   "source": [
    "heights.scatter('Parent Average', 'Child')"
   ]
  },
  {
   "cell_type": "code",
   "execution_count": 45,
   "metadata": {},
   "outputs": [
    {
     "data": {
      "image/png": "[encoded data removed]",
      "text/plain": [
       "<Figure size 500x500 with 1 Axes>"
      ]
     },
     "metadata": {},
     "output_type": "display_data"
    }
   ],
   "source": [
    "heights.scatter('Parent Average', 'Child')\n",
    "plots.plot([67.5, 67.5], [50, 85], color='red', lw=2)\n",
    "plots.plot([68.5, 68.5], [50, 85], color='red', lw=2);"
   ]
  },
  {
   "cell_type": "code",
   "execution_count": 47,
   "metadata": {},
   "outputs": [
    {
     "data": {
      "text/html": [
       "<table border=\"1\" class=\"dataframe\">\n",
       "    <thead>\n",
       "        <tr>\n",
       "            <th>Parent Average</th> <th>Child</th> <th>Sex</th>\n",
       "        </tr>\n",
       "    </thead>\n",
       "    <tbody>\n",
       "        <tr>\n",
       "            <td>72.75         </td> <td>73.2 </td> <td>male  </td>\n",
       "        </tr>\n",
       "        <tr>\n",
       "            <td>72.75         </td> <td>69.2 </td> <td>female</td>\n",
       "        </tr>\n",
       "        <tr>\n",
       "            <td>72.75         </td> <td>69   </td> <td>female</td>\n",
       "        </tr>\n",
       "        <tr>\n",
       "            <td>72.75         </td> <td>69   </td> <td>female</td>\n",
       "        </tr>\n",
       "        <tr>\n",
       "            <td>71            </td> <td>73.5 </td> <td>male  </td>\n",
       "        </tr>\n",
       "    </tbody>\n",
       "</table>\n",
       "<p>... (929 rows omitted)</p>"
      ],
      "text/plain": [
       "<IPython.core.display.HTML object>"
      ]
     },
     "metadata": {},
     "output_type": "display_data"
    }
   ],
   "source": [
    "heights.show(5)"
   ]
  },
  {
   "cell_type": "code",
   "execution_count": 49,
   "metadata": {
    "scrolled": true
   },
   "outputs": [
    {
     "data": {
      "text/plain": [
       "67.620000000000005"
      ]
     },
     "execution_count": 49,
     "metadata": {},
     "output_type": "execute_result"
    }
   ],
   "source": [
    "nearby = heights.where(\"Parent Average\", are.between(67.5, 68.5))\n",
    "nearby_mean = np.average(nearby.column(\"Child\"))\n",
    "nearby_mean"
   ]
  },
  {
   "cell_type": "code",
   "execution_count": 51,
   "metadata": {},
   "outputs": [
    {
     "data": {
      "image/png": "[encoded data removed]",
      "text/plain": [
       "<Figure size 500x500 with 1 Axes>"
      ]
     },
     "metadata": {},
     "output_type": "display_data"
    }
   ],
   "source": [
    "heights.scatter('Parent Average', 'Child')\n",
    "plots.plot([67.5, 67.5], [50, 85], color='red', lw=2)\n",
    "plots.plot([68.5, 68.5], [50, 85], color='red', lw=2)\n",
    "plots.scatter(68, nearby_mean, color='red', s=50);"
   ]
  },
  {
   "cell_type": "code",
   "execution_count": 53,
   "metadata": {},
   "outputs": [],
   "source": [
    "def predict(h):\n",
    "    nearby = heights.where(\"Parent Average\", are.between(h - 0.05, h + 0.05))\n",
    "    return np.average(nearby.column(\"Child\"))"
   ]
  },
  {
   "cell_type": "code",
   "execution_count": 55,
   "metadata": {},
   "outputs": [
    {
     "data": {
      "text/plain": [
       "66.69285714285715"
      ]
     },
     "execution_count": 55,
     "metadata": {},
     "output_type": "execute_result"
    }
   ],
   "source": [
    "predict(68)"
   ]
  },
  {
   "cell_type": "code",
   "execution_count": 57,
   "metadata": {},
   "outputs": [
    {
     "data": {
      "text/plain": [
       "64.34615384615384"
      ]
     },
     "execution_count": 57,
     "metadata": {},
     "output_type": "execute_result"
    }
   ],
   "source": [
    "predict(64)"
   ]
  },
  {
   "cell_type": "code",
   "execution_count": 59,
   "metadata": {},
   "outputs": [
    {
     "data": {
      "text/plain": [
       "70.681818181818187"
      ]
     },
     "execution_count": 59,
     "metadata": {},
     "output_type": "execute_result"
    }
   ],
   "source": [
    "predict(71)"
   ]
  },
  {
   "cell_type": "code",
   "execution_count": 61,
   "metadata": {},
   "outputs": [
    {
     "data": {
      "text/html": [
       "<table border=\"1\" class=\"dataframe\">\n",
       "    <thead>\n",
       "        <tr>\n",
       "            <th>Parent Average</th> <th>Child</th> <th>Sex</th>\n",
       "        </tr>\n",
       "    </thead>\n",
       "    <tbody>\n",
       "        <tr>\n",
       "            <td>72.75         </td> <td>73.2 </td> <td>male  </td>\n",
       "        </tr>\n",
       "        <tr>\n",
       "            <td>72.75         </td> <td>69.2 </td> <td>female</td>\n",
       "        </tr>\n",
       "        <tr>\n",
       "            <td>72.75         </td> <td>69   </td> <td>female</td>\n",
       "        </tr>\n",
       "        <tr>\n",
       "            <td>72.75         </td> <td>69   </td> <td>female</td>\n",
       "        </tr>\n",
       "        <tr>\n",
       "            <td>71            </td> <td>73.5 </td> <td>male  </td>\n",
       "        </tr>\n",
       "        <tr>\n",
       "            <td>71            </td> <td>72.5 </td> <td>male  </td>\n",
       "        </tr>\n",
       "        <tr>\n",
       "            <td>71            </td> <td>65.5 </td> <td>female</td>\n",
       "        </tr>\n",
       "        <tr>\n",
       "            <td>71            </td> <td>65.5 </td> <td>female</td>\n",
       "        </tr>\n",
       "        <tr>\n",
       "            <td>69.5          </td> <td>71   </td> <td>male  </td>\n",
       "        </tr>\n",
       "        <tr>\n",
       "            <td>69.5          </td> <td>68   </td> <td>female</td>\n",
       "        </tr>\n",
       "    </tbody>\n",
       "</table>\n",
       "<p>... (924 rows omitted)</p>"
      ],
      "text/plain": [
       "Parent Average | Child | Sex\n",
       "72.75          | 73.2  | male\n",
       "72.75          | 69.2  | female\n",
       "72.75          | 69    | female\n",
       "72.75          | 69    | female\n",
       "71             | 73.5  | male\n",
       "71             | 72.5  | male\n",
       "71             | 65.5  | female\n",
       "71             | 65.5  | female\n",
       "69.5           | 71    | male\n",
       "69.5           | 68    | female\n",
       "... (924 rows omitted)"
      ]
     },
     "execution_count": 61,
     "metadata": {},
     "output_type": "execute_result"
    }
   ],
   "source": [
    "heights"
   ]
  },
  {
   "cell_type": "code",
   "execution_count": 63,
   "metadata": {},
   "outputs": [
    {
     "data": {
      "text/plain": [
       "array([ 70.1       ,  70.1       ,  70.1       ,  70.1       ,\n",
       "        70.68181818,  70.68181818,  70.68181818,  70.68181818,\n",
       "        68.06      ,  68.06      ,  68.06      ,  68.06      ,\n",
       "        68.06      ,  68.06      ,  68.06      ,  66.484     ,\n",
       "        66.484     ,  66.484     ,  66.484     ,  66.484     ,\n",
       "        66.484     ,  70.68181818,  70.68181818,  70.68181818,\n",
       "        70.68181818,  70.68181818,  70.68181818,  70.68181818,\n",
       "        67.625     ,  67.625     ,  67.625     ,  67.625     ,\n",
       "        68.425     ,  66.69285714,  66.69285714,  66.69285714,\n",
       "        66.69285714,  66.69285714,  66.69285714,  66.69285714,\n",
       "        66.69285714,  67.49894737,  70.125     ,  70.125     ,\n",
       "        70.125     ,  70.125     ,  68.425     ,  68.425     ,\n",
       "        68.425     ,  69.46428571,  69.46428571,  69.46428571,\n",
       "        69.46428571,  69.46428571,  69.46428571,  69.46428571,\n",
       "        69.46428571,  69.46428571,  67.45882353,  67.45882353,\n",
       "        67.45882353,  67.45882353,  67.45882353,  67.45882353,\n",
       "        67.58285714,  67.58285714,  67.58285714,  68.64      ,\n",
       "        70.05      ,  70.05      ,  70.05      ,  70.05      ,\n",
       "        70.05      ,  70.05      ,  70.05      ,  70.05      ,\n",
       "        70.125     ,  70.125     ,  70.125     ,  68.06      ,\n",
       "        68.06      ,  68.06      ,  67.58285714,  67.58285714,\n",
       "        67.58285714,  67.58285714,  67.58285714,  67.58285714,\n",
       "        67.58285714,  67.45882353,  66.69285714,  66.69285714,\n",
       "        67.49894737,  67.49894737,  67.49894737,  67.49894737,\n",
       "        67.49894737,  67.49894737,  67.49894737,  67.49894737,\n",
       "        67.49894737,  67.49894737,  67.49894737,  67.49894737,\n",
       "        67.49894737,  67.49894737,  66.69285714,  66.69285714,\n",
       "        66.69285714,  67.15322581,  67.71052632,  67.71052632,\n",
       "        67.71052632,  67.71052632,  67.71052632,  67.71052632,\n",
       "        67.15322581,  67.15322581,  67.15322581,  67.15322581,\n",
       "        67.15322581,  67.15322581,  67.15322581,  67.15322581,\n",
       "        67.15322581,  67.15322581,  66.509375  ,  70.125     ,\n",
       "        70.125     ,  70.125     ,  70.125     ,  70.125     ,\n",
       "        69.46428571,  69.46428571,  69.46428571,  69.46428571,\n",
       "        67.58285714,  67.58285714,  67.58285714,  67.58285714,\n",
       "        67.58285714,  67.58285714,  67.58285714,  67.58285714,\n",
       "        67.58285714,  67.58285714,  67.58285714,  67.58285714,\n",
       "        67.58285714,  67.58285714,  67.58285714,  67.58285714,\n",
       "        67.58285714,  70.5       ,  68.28947368,  68.28947368,\n",
       "        68.28947368,  68.28947368,  68.28947368,  68.28947368,\n",
       "        67.58285714,  67.58285714,  68.28947368,  68.28947368,\n",
       "        66.69285714,  66.69285714,  66.69285714,  67.49894737,\n",
       "        67.49894737,  67.49894737,  67.49894737,  67.49894737,\n",
       "        67.49894737,  67.49894737,  67.49894737,  68.64      ,\n",
       "        68.64      ,  68.64      ,  68.64      ,  67.49894737,\n",
       "        67.49894737,  67.49894737,  66.69285714,  66.69285714,\n",
       "        66.69285714,  66.69285714,  66.69285714,  66.69285714,\n",
       "        66.69285714,  67.63823529,  67.63823529,  65.4       ,\n",
       "        65.4       ,  67.71052632,  67.71052632,  67.71052632,\n",
       "        67.71052632,  67.71052632,  67.15322581,  67.15322581,\n",
       "        67.15322581,  67.15322581,  67.15322581,  67.15322581,\n",
       "        67.15322581,  67.15322581,  67.15322581,  67.15322581,\n",
       "        67.15322581,  67.15322581,  67.15322581,  66.509375  ,\n",
       "        66.509375  ,  66.509375  ,  66.509375  ,  66.509375  ,\n",
       "        66.509375  ,  66.509375  ,  66.509375  ,  66.509375  ,\n",
       "        66.509375  ,  66.484     ,  66.484     ,  66.484     ,\n",
       "        66.484     ,  66.484     ,  66.509375  ,  66.509375  ,\n",
       "        66.509375  ,  66.509375  ,  66.509375  ,  66.509375  ,\n",
       "        66.509375  ,  66.11142857,  65.43571429,  65.43571429,\n",
       "        68.06      ,  68.06      ,  68.06      ,  68.06      ,\n",
       "        68.06      ,  68.06      ,  68.06      ,  68.06      ,\n",
       "        68.06      ,  68.06      ,  69.46428571,  67.58285714,\n",
       "        67.58285714,  67.58285714,  67.58285714,  67.58285714,\n",
       "        67.58285714,  68.28947368,  68.28947368,  68.28947368,\n",
       "        68.28947368,  68.28947368,  68.28947368,  68.28947368,\n",
       "        68.28947368,  68.28947368,  68.28947368,  68.28947368,\n",
       "        67.63823529,  67.63823529,  67.63823529,  67.63823529,\n",
       "        67.63823529,  67.63823529,  67.63823529,  67.63823529,\n",
       "        67.63823529,  67.49894737,  67.49894737,  67.49894737,\n",
       "        67.49894737,  67.49894737,  67.49894737,  67.49894737,\n",
       "        67.49894737,  67.49894737,  67.49894737,  67.49894737,\n",
       "        67.49894737,  67.49894737,  67.49894737,  67.49894737,\n",
       "        67.49894737,  67.49894737,  67.49894737,  67.49894737,\n",
       "        67.49894737,  67.49894737,  67.49894737,  67.49894737,\n",
       "        67.49894737,  67.49894737,  67.49894737,  67.49894737,\n",
       "        67.49894737,  67.49894737,  67.49894737,  67.49894737,\n",
       "        67.41428571,  67.41428571,  67.41428571,  67.41428571,\n",
       "        67.41428571,  67.41428571,  67.41428571,  67.15322581,\n",
       "        67.15322581,  67.15322581,  67.15322581,  67.15322581,\n",
       "        67.15322581,  67.15322581,  67.15322581,  67.15322581,\n",
       "        67.15322581,  67.15322581,  65.4       ,  65.4       ,\n",
       "        65.4       ,  65.4       ,  65.4       ,  67.71052632,\n",
       "        67.71052632,  67.71052632,  67.71052632,  67.71052632,\n",
       "        67.71052632,  67.71052632,  67.71052632,  67.49894737,\n",
       "        67.15322581,  67.15322581,  67.15322581,  67.15322581,\n",
       "        67.15322581,  67.15322581,  67.15322581,  67.15322581,\n",
       "        67.15322581,  67.15322581,  67.15322581,  67.15322581,\n",
       "        67.15322581,  64.3875    ,  64.3875    ,  64.3875    ,\n",
       "        64.3875    ,  64.3875    ,  64.3875    ,  64.3875    ,\n",
       "        64.3875    ,  66.484     ,  66.484     ,  66.484     ,\n",
       "        66.484     ,  66.484     ,  66.484     ,  66.484     ,\n",
       "        66.484     ,  66.484     ,  66.484     ,  66.484     ,\n",
       "        66.484     ,  66.484     ,  66.509375  ,  66.509375  ,\n",
       "        66.509375  ,  66.509375  ,  66.509375  ,  66.509375  ,\n",
       "        66.509375  ,  66.509375  ,  65.70697674,  65.70697674,\n",
       "        65.70697674,  65.70697674,  65.70697674,  65.70697674,\n",
       "        65.70697674,  65.70697674,  66.509375  ,  66.509375  ,\n",
       "        66.509375  ,  66.509375  ,  66.509375  ,  66.509375  ,\n",
       "        66.509375  ,  65.70697674,  65.70697674,  65.70697674,\n",
       "        66.35      ,  66.35      ,  65.1030303 ,  65.1030303 ,\n",
       "        65.1030303 ,  65.1030303 ,  65.1030303 ,  65.1030303 ,\n",
       "        67.64285714,  67.64285714,  67.64285714,  64.34615385,\n",
       "        64.34615385,  64.34615385,  64.34615385,  64.34615385,\n",
       "        67.45882353,  67.45882353,  67.45882353,  67.45882353,\n",
       "        67.45882353,  67.45882353,  67.45882353,  67.45882353,\n",
       "        67.45882353,  67.45882353,  66.69285714,  67.49894737,\n",
       "        67.49894737,  67.49894737,  67.49894737,  67.49894737,\n",
       "        67.49894737,  67.49894737,  67.49894737,  67.49894737,\n",
       "        67.49894737,  67.49894737,  72.375     ,  72.375     ,\n",
       "        72.375     ,  72.375     ,  67.49894737,  67.49894737,\n",
       "        67.49894737,  67.49894737,  67.49894737,  67.49894737,\n",
       "        67.63823529,  67.63823529,  67.63823529,  67.63823529,\n",
       "        67.63823529,  67.63823529,  67.63823529,  66.69285714,\n",
       "        66.69285714,  66.69285714,  66.69285714,  67.63823529,\n",
       "        67.63823529,  67.63823529,  67.63823529,  67.63823529,\n",
       "        67.63823529,  67.63823529,  67.63823529,  67.63823529,\n",
       "        67.63823529,  67.63823529,  67.63823529,  67.63823529,\n",
       "        67.49894737,  67.49894737,  67.49894737,  67.49894737,\n",
       "        67.49894737,  67.49894737,  67.49894737,  67.49894737,\n",
       "        67.49894737,  67.15322581,  67.15322581,  67.15322581,\n",
       "        67.15322581,  67.15322581,  67.15322581,  67.15322581,\n",
       "        67.15322581,  67.15322581,  67.15322581,  67.15322581,\n",
       "        67.15322581,  67.15322581,  67.15322581,  68.06666667,\n",
       "        68.06666667,  68.06666667,  68.06666667,  65.70697674,\n",
       "        66.11142857,  66.11142857,  66.11142857,  66.11142857,\n",
       "        66.11142857,  66.11142857,  66.11142857,  66.11142857,\n",
       "        66.11142857,  66.11142857,  65.70697674,  65.70697674,\n",
       "        65.70697674,  65.70697674,  65.70697674,  65.70697674,\n",
       "        65.70697674,  65.70697674,  65.70697674,  65.70697674,\n",
       "        66.41666667,  66.05428571,  66.05428571,  66.05428571,\n",
       "        66.35      ,  66.35      ,  66.35      ,  66.35      ,\n",
       "        66.35      ,  66.05428571,  66.05428571,  66.05428571,\n",
       "        66.05428571,  66.05428571,  66.05428571,  66.05428571,\n",
       "        66.05428571,  66.05428571,  66.05428571,  66.05428571,\n",
       "        66.05428571,  66.05428571,  66.05428571,  66.05428571,\n",
       "        66.05428571,  66.05428571,  66.05428571,  66.05428571,\n",
       "        66.35      ,  66.35      ,  66.35      ,  66.35      ,\n",
       "        67.50588235,  67.50588235,  67.50588235,  67.50588235,\n",
       "        67.50588235,  65.1030303 ,  65.1030303 ,  65.1030303 ,\n",
       "        65.1030303 ,  65.1030303 ,  65.1030303 ,  65.1030303 ,\n",
       "        65.1030303 ,  65.1030303 ,  65.43571429,  65.43571429,\n",
       "        65.43571429,  65.43571429,  65.43571429,  65.43571429,\n",
       "        65.43571429,  66.51428571,  66.35      ,  66.35      ,\n",
       "        67.63823529,  67.63823529,  67.63823529,  67.49894737,\n",
       "        67.49894737,  67.49894737,  67.49894737,  67.49894737,\n",
       "        67.49894737,  67.49894737,  67.49894737,  67.49894737,\n",
       "        67.49894737,  67.49894737,  66.509375  ,  66.509375  ,\n",
       "        66.484     ,  66.484     ,  66.484     ,  66.484     ,\n",
       "        66.484     ,  66.484     ,  66.484     ,  66.484     ,\n",
       "        66.484     ,  66.509375  ,  66.509375  ,  66.509375  ,\n",
       "        66.509375  ,  66.484     ,  66.484     ,  66.484     ,\n",
       "        66.484     ,  66.484     ,  66.484     ,  66.484     ,\n",
       "        66.484     ,  66.484     ,  66.484     ,  66.484     ,\n",
       "        66.484     ,  66.484     ,  66.484     ,  66.484     ,\n",
       "        66.484     ,  66.11142857,  66.11142857,  66.11142857,\n",
       "        66.11142857,  66.11142857,  66.11142857,  66.11142857,\n",
       "        66.11142857,  66.11142857,  66.11142857,  66.11142857,\n",
       "        66.11142857,  66.11142857,  66.11142857,  66.11142857,\n",
       "        66.11142857,  66.11142857,  66.11142857,  66.11142857,\n",
       "        65.70697674,  66.11142857,  66.11142857,  66.11142857,\n",
       "        66.11142857,  66.11142857,  66.11142857,  66.11142857,\n",
       "        66.11142857,  66.11142857,  66.11142857,  66.35      ,\n",
       "        66.35      ,  66.35      ,  66.35      ,  66.35      ,\n",
       "        66.35      ,  66.35      ,  66.35      ,  66.11142857,\n",
       "        66.11142857,  66.11142857,  66.11142857,  66.35      ,\n",
       "        66.35      ,  66.35      ,  66.35      ,  66.35      ,\n",
       "        66.35      ,  66.35      ,  66.35      ,  66.35      ,\n",
       "        66.35      ,  66.35      ,  66.35      ,  66.35      ,\n",
       "        66.35      ,  66.35      ,  66.35      ,  66.35      ,\n",
       "        66.35      ,  66.35      ,  66.11142857,  66.35      ,\n",
       "        66.41666667,  66.41666667,  66.41666667,  66.41666667,\n",
       "        66.41666667,  67.50588235,  64.7       ,  64.7       ,\n",
       "        67.50588235,  65.43571429,  65.43571429,  65.43571429,\n",
       "        65.43571429,  65.43571429,  66.7       ,  64.34615385,\n",
       "        64.34615385,  64.34615385,  64.34615385,  64.34615385,\n",
       "        64.34615385,  64.34615385,  64.34615385,  64.34615385,\n",
       "        64.34615385,  64.34615385,  69.5       ,  64.2       ,\n",
       "        64.2       ,  64.2       ,  64.2       ,  64.2       ,\n",
       "        64.2       ,  64.2       ,  64.2       ,  64.2       ,\n",
       "        64.2       ,  68.06666667,  68.06666667,  68.06666667,\n",
       "        68.06666667,  68.06666667,  66.484     ,  66.509375  ,\n",
       "        66.509375  ,  66.509375  ,  66.509375  ,  66.509375  ,\n",
       "        66.509375  ,  66.509375  ,  66.509375  ,  66.11142857,\n",
       "        66.11142857,  66.11142857,  66.11142857,  66.11142857,\n",
       "        66.11142857,  65.70697674,  65.70697674,  65.70697674,\n",
       "        65.70697674,  65.70697674,  65.70697674,  65.70697674,\n",
       "        65.70697674,  65.70697674,  66.11142857,  66.11142857,\n",
       "        66.11142857,  65.70697674,  65.70697674,  65.70697674,\n",
       "        65.70697674,  65.70697674,  65.70697674,  65.70697674,\n",
       "        65.70697674,  65.70697674,  65.70697674,  65.70697674,\n",
       "        66.35      ,  66.35      ,  66.35      ,  66.35      ,\n",
       "        67.50588235,  67.50588235,  67.50588235,  67.50588235,\n",
       "        67.50588235,  67.50588235,  67.50588235,  67.50588235,\n",
       "        65.1030303 ,  65.1030303 ,  65.1030303 ,  66.51428571,\n",
       "        66.51428571,  66.51428571,  66.51428571,  66.51428571,\n",
       "        64.34615385,  66.509375  ,  66.509375  ,  66.509375  ,\n",
       "        66.509375  ,  66.509375  ,  66.509375  ,  66.509375  ,\n",
       "        66.509375  ,  66.509375  ,  66.509375  ,  66.509375  ,\n",
       "        66.509375  ,  66.509375  ,  66.509375  ,  66.509375  ,\n",
       "        66.509375  ,  66.509375  ,  66.11142857,  66.11142857,\n",
       "        66.11142857,  66.11142857,  66.11142857,  66.11142857,\n",
       "        66.11142857,  66.11142857,  66.11142857,  66.11142857,\n",
       "        66.11142857,  66.05428571,  66.05428571,  66.05428571,\n",
       "        66.05428571,  66.05428571,  66.05428571,  66.05428571,\n",
       "        66.05428571,  66.05428571,  66.05428571,  66.05428571,\n",
       "        66.05428571,  66.05428571,  65.43571429,  66.51428571,\n",
       "        66.51428571,  66.51428571,  66.51428571,  66.51428571,\n",
       "        66.51428571,  66.51428571,  66.51428571,  65.43571429,\n",
       "        65.43571429,  65.43571429,  65.43571429,  65.43571429,\n",
       "        65.43571429,  65.43571429,  69.5       ,  65.        ,\n",
       "        65.        ,  65.        ,  65.        ,  65.        ,\n",
       "        63.58      ,  63.58      ,  63.58      ,  63.58      ,\n",
       "        63.58      ,  63.58      ,  63.58      ,  63.58      ,\n",
       "        63.58      ,  63.58      ,  63.58      ,  63.58      ,\n",
       "        63.58      ,  63.58      ,  63.58      ,  66.11142857,\n",
       "        66.11142857,  66.11142857,  66.11142857,  66.11142857,\n",
       "        66.35      ,  66.35      ,  66.35      ,  66.35      ,\n",
       "        66.35      ,  66.35      ,  66.35      ,  66.35      ,\n",
       "        66.35      ,  65.1030303 ,  65.1030303 ,  65.1030303 ,\n",
       "        65.1030303 ,  65.1030303 ,  65.1030303 ,  65.1030303 ,\n",
       "        65.1030303 ,  65.1030303 ,  67.50588235,  67.50588235,\n",
       "        65.1030303 ,  65.1030303 ,  65.1030303 ,  65.1030303 ,\n",
       "        65.1030303 ,  65.1030303 ,  65.43571429,  65.43571429,\n",
       "        65.43571429,  65.43571429,  65.43571429,  65.43571429,\n",
       "        64.34615385,  64.34615385,  64.34615385,  64.34615385,\n",
       "        64.34615385,  67.64285714,  67.64285714,  67.64285714,\n",
       "        67.64285714,  65.07142857,  65.07142857,  65.07142857,\n",
       "        65.07142857,  65.07142857,  64.34615385,  64.34615385,\n",
       "        64.34615385,  64.34615385,  64.34615385,  64.34615385,\n",
       "        64.34615385,  64.34615385,  64.34615385,  64.34615385,\n",
       "        64.34615385,  64.34615385,  64.34615385,  64.34615385,\n",
       "        64.2       ,  63.        ,  63.        ,  66.        ,\n",
       "        66.        ,  64.34615385,  64.34615385,  64.34615385,\n",
       "        65.07142857,  65.07142857])"
      ]
     },
     "execution_count": 63,
     "metadata": {},
     "output_type": "execute_result"
    }
   ],
   "source": [
    "predicted_heights = heights.apply(predict, \"Parent Average\")\n",
    "predicted_heights"
   ]
  },
  {
   "cell_type": "code",
   "execution_count": 67,
   "metadata": {},
   "outputs": [
    {
     "data": {
      "text/html": [
       "<table border=\"1\" class=\"dataframe\">\n",
       "    <thead>\n",
       "        <tr>\n",
       "            <th>Parent Average</th> <th>Child</th> <th>Sex</th> <th>Prediction</th>\n",
       "        </tr>\n",
       "    </thead>\n",
       "    <tbody>\n",
       "        <tr>\n",
       "            <td>72.75         </td> <td>73.2 </td> <td>male  </td> <td>70.1      </td>\n",
       "        </tr>\n",
       "        <tr>\n",
       "            <td>72.75         </td> <td>69.2 </td> <td>female</td> <td>70.1      </td>\n",
       "        </tr>\n",
       "        <tr>\n",
       "            <td>72.75         </td> <td>69   </td> <td>female</td> <td>70.1      </td>\n",
       "        </tr>\n",
       "        <tr>\n",
       "            <td>72.75         </td> <td>69   </td> <td>female</td> <td>70.1      </td>\n",
       "        </tr>\n",
       "        <tr>\n",
       "            <td>71            </td> <td>73.5 </td> <td>male  </td> <td>70.6818   </td>\n",
       "        </tr>\n",
       "        <tr>\n",
       "            <td>71            </td> <td>72.5 </td> <td>male  </td> <td>70.6818   </td>\n",
       "        </tr>\n",
       "        <tr>\n",
       "            <td>71            </td> <td>65.5 </td> <td>female</td> <td>70.6818   </td>\n",
       "        </tr>\n",
       "        <tr>\n",
       "            <td>71            </td> <td>65.5 </td> <td>female</td> <td>70.6818   </td>\n",
       "        </tr>\n",
       "        <tr>\n",
       "            <td>69.5          </td> <td>71   </td> <td>male  </td> <td>68.06     </td>\n",
       "        </tr>\n",
       "        <tr>\n",
       "            <td>69.5          </td> <td>68   </td> <td>female</td> <td>68.06     </td>\n",
       "        </tr>\n",
       "    </tbody>\n",
       "</table>\n",
       "<p>... (924 rows omitted)</p>"
      ],
      "text/plain": [
       "Parent Average | Child | Sex    | Prediction\n",
       "72.75          | 73.2  | male   | 70.1\n",
       "72.75          | 69.2  | female | 70.1\n",
       "72.75          | 69    | female | 70.1\n",
       "72.75          | 69    | female | 70.1\n",
       "71             | 73.5  | male   | 70.6818\n",
       "71             | 72.5  | male   | 70.6818\n",
       "71             | 65.5  | female | 70.6818\n",
       "71             | 65.5  | female | 70.6818\n",
       "69.5           | 71    | male   | 68.06\n",
       "69.5           | 68    | female | 68.06\n",
       "... (924 rows omitted)"
      ]
     },
     "execution_count": 67,
     "metadata": {},
     "output_type": "execute_result"
    }
   ],
   "source": [
    "heights = heights.with_column(\"Prediction\", predicted_heights)\n",
    "heights"
   ]
  },
  {
   "cell_type": "code",
   "execution_count": 69,
   "metadata": {},
   "outputs": [
    {
     "data": {
      "image/png": "[encoded data removed]",
      "text/plain": [
       "<Figure size 500x500 with 1 Axes>"
      ]
     },
     "metadata": {},
     "output_type": "display_data"
    }
   ],
   "source": [
    "#Visualize Scatterplot of predictions\n",
    "heights.select('Parent Average', 'Child', 'Prediction')\n",
    "heights.select('Parent Average', 'Child', 'Prediction').scatter('Parent Average')"
   ]
  },
  {
   "cell_type": "markdown",
   "metadata": {},
   "source": [
    "## Grouping by One Column ##"
   ]
  },
  {
   "cell_type": "code",
   "execution_count": 2,
   "metadata": {},
   "outputs": [
    {
     "data": {
      "text/html": [
       "<table border=\"1\" class=\"dataframe\">\n",
       "    <thead>\n",
       "        <tr>\n",
       "            <th>Flavor</th> <th>Color</th> <th>Price</th>\n",
       "        </tr>\n",
       "    </thead>\n",
       "    <tbody>\n",
       "        <tr>\n",
       "            <td>strawberry</td> <td>pink       </td> <td>3.55 </td>\n",
       "        </tr>\n",
       "        <tr>\n",
       "            <td>chocolate </td> <td>light brown</td> <td>4.75 </td>\n",
       "        </tr>\n",
       "        <tr>\n",
       "            <td>chocolate </td> <td>dark brown </td> <td>5.25 </td>\n",
       "        </tr>\n",
       "        <tr>\n",
       "            <td>strawberry</td> <td>pink       </td> <td>5.25 </td>\n",
       "        </tr>\n",
       "        <tr>\n",
       "            <td>chocolate </td> <td>dark brown </td> <td>5.25 </td>\n",
       "        </tr>\n",
       "        <tr>\n",
       "            <td>bubblegum </td> <td>pink       </td> <td>4.75 </td>\n",
       "        </tr>\n",
       "    </tbody>\n",
       "</table>"
      ],
      "text/plain": [
       "Flavor     | Color       | Price\n",
       "strawberry | pink        | 3.55\n",
       "chocolate  | light brown | 4.75\n",
       "chocolate  | dark brown  | 5.25\n",
       "strawberry | pink        | 5.25\n",
       "chocolate  | dark brown  | 5.25\n",
       "bubblegum  | pink        | 4.75"
      ]
     },
     "execution_count": 2,
     "metadata": {},
     "output_type": "execute_result"
    }
   ],
   "source": [
    "cones = Table.read_table('cones.csv')\n",
    "cones"
   ]
  },
  {
   "cell_type": "code",
   "execution_count": 3,
   "metadata": {},
   "outputs": [
    {
     "data": {
      "text/html": [
       "<table border=\"1\" class=\"dataframe\">\n",
       "    <thead>\n",
       "        <tr>\n",
       "            <th>Flavor</th> <th>Price</th>\n",
       "        </tr>\n",
       "    </thead>\n",
       "    <tbody>\n",
       "        <tr>\n",
       "            <td>strawberry</td> <td>3.55 </td>\n",
       "        </tr>\n",
       "        <tr>\n",
       "            <td>chocolate </td> <td>4.75 </td>\n",
       "        </tr>\n",
       "        <tr>\n",
       "            <td>chocolate </td> <td>5.25 </td>\n",
       "        </tr>\n",
       "        <tr>\n",
       "            <td>strawberry</td> <td>5.25 </td>\n",
       "        </tr>\n",
       "        <tr>\n",
       "            <td>chocolate </td> <td>5.25 </td>\n",
       "        </tr>\n",
       "        <tr>\n",
       "            <td>bubblegum </td> <td>4.75 </td>\n",
       "        </tr>\n",
       "    </tbody>\n",
       "</table>"
      ],
      "text/plain": [
       "Flavor     | Price\n",
       "strawberry | 3.55\n",
       "chocolate  | 4.75\n",
       "chocolate  | 5.25\n",
       "strawberry | 5.25\n",
       "chocolate  | 5.25\n",
       "bubblegum  | 4.75"
      ]
     },
     "execution_count": 3,
     "metadata": {},
     "output_type": "execute_result"
    }
   ],
   "source": [
    "cones = Table.read_table('cones.csv').drop('Color')\n",
    "cones"
   ]
  },
  {
   "cell_type": "code",
   "execution_count": 4,
   "metadata": {},
   "outputs": [
    {
     "data": {
      "text/html": [
       "<table border=\"1\" class=\"dataframe\">\n",
       "    <thead>\n",
       "        <tr>\n",
       "            <th>Flavor</th> <th>count</th>\n",
       "        </tr>\n",
       "    </thead>\n",
       "    <tbody>\n",
       "        <tr>\n",
       "            <td>bubblegum </td> <td>1    </td>\n",
       "        </tr>\n",
       "        <tr>\n",
       "            <td>chocolate </td> <td>3    </td>\n",
       "        </tr>\n",
       "        <tr>\n",
       "            <td>strawberry</td> <td>2    </td>\n",
       "        </tr>\n",
       "    </tbody>\n",
       "</table>"
      ],
      "text/plain": [
       "Flavor     | count\n",
       "bubblegum  | 1\n",
       "chocolate  | 3\n",
       "strawberry | 2"
      ]
     },
     "execution_count": 4,
     "metadata": {},
     "output_type": "execute_result"
    }
   ],
   "source": [
    "cones.group(\"Flavor\")"
   ]
  },
  {
   "cell_type": "code",
   "execution_count": 5,
   "metadata": {
    "scrolled": true
   },
   "outputs": [
    {
     "data": {
      "text/html": [
       "<table border=\"1\" class=\"dataframe\">\n",
       "    <thead>\n",
       "        <tr>\n",
       "            <th>Flavor</th> <th>Price average</th>\n",
       "        </tr>\n",
       "    </thead>\n",
       "    <tbody>\n",
       "        <tr>\n",
       "            <td>bubblegum </td> <td>4.75         </td>\n",
       "        </tr>\n",
       "        <tr>\n",
       "            <td>chocolate </td> <td>5.08333      </td>\n",
       "        </tr>\n",
       "        <tr>\n",
       "            <td>strawberry</td> <td>4.4          </td>\n",
       "        </tr>\n",
       "    </tbody>\n",
       "</table>"
      ],
      "text/plain": [
       "Flavor     | Price average\n",
       "bubblegum  | 4.75\n",
       "chocolate  | 5.08333\n",
       "strawberry | 4.4"
      ]
     },
     "execution_count": 5,
     "metadata": {},
     "output_type": "execute_result"
    }
   ],
   "source": [
    "cones.group(\"Flavor\", np.average)"
   ]
  },
  {
   "cell_type": "code",
   "execution_count": 6,
   "metadata": {},
   "outputs": [
    {
     "data": {
      "text/html": [
       "<table border=\"1\" class=\"dataframe\">\n",
       "    <thead>\n",
       "        <tr>\n",
       "            <th>Flavor</th> <th>Price min</th>\n",
       "        </tr>\n",
       "    </thead>\n",
       "    <tbody>\n",
       "        <tr>\n",
       "            <td>bubblegum </td> <td>4.75     </td>\n",
       "        </tr>\n",
       "        <tr>\n",
       "            <td>chocolate </td> <td>4.75     </td>\n",
       "        </tr>\n",
       "        <tr>\n",
       "            <td>strawberry</td> <td>3.55     </td>\n",
       "        </tr>\n",
       "    </tbody>\n",
       "</table>"
      ],
      "text/plain": [
       "Flavor     | Price min\n",
       "bubblegum  | 4.75\n",
       "chocolate  | 4.75\n",
       "strawberry | 3.55"
      ]
     },
     "execution_count": 6,
     "metadata": {},
     "output_type": "execute_result"
    }
   ],
   "source": [
    "cones.group(\"Flavor\", min)"
   ]
  },
  {
   "cell_type": "markdown",
   "metadata": {},
   "source": [
    "## Grouping By One Column: Welcome Survey ##"
   ]
  },
  {
   "cell_type": "code",
   "execution_count": 7,
   "metadata": {},
   "outputs": [
    {
     "data": {
      "text/html": [
       "<table border=\"1\" class=\"dataframe\">\n",
       "    <thead>\n",
       "        <tr>\n",
       "            <th>Year</th> <th>Extraversion</th> <th>Number of textees</th> <th>Hours of sleep</th> <th>Handedness</th> <th>Sleep position</th> <th>Pets</th> <th>TV</th> <th>Piercings</th>\n",
       "        </tr>\n",
       "    </thead>\n",
       "    <tbody>\n",
       "        <tr>\n",
       "            <td>Second Year</td> <td>7           </td> <td>5                </td> <td>7             </td> <td>Right-handed</td> <td>On your back      </td> <td>a little brother</td> <td>Black Mirror</td> <td>3        </td>\n",
       "        </tr>\n",
       "        <tr>\n",
       "            <td>Second Year</td> <td>3           </td> <td>6                </td> <td>7             </td> <td>Right-handed</td> <td>On your right side</td> <td>Bird            </td> <td>nan         </td> <td>0        </td>\n",
       "        </tr>\n",
       "        <tr>\n",
       "            <td>Second Year</td> <td>3           </td> <td>8                </td> <td>6             </td> <td>Right-handed</td> <td>On your right side</td> <td>Bird            </td> <td>The Bear    </td> <td>0        </td>\n",
       "        </tr>\n",
       "    </tbody>\n",
       "</table>\n",
       "<p>... (929 rows omitted)</p>"
      ],
      "text/plain": [
       "<IPython.core.display.HTML object>"
      ]
     },
     "metadata": {},
     "output_type": "display_data"
    }
   ],
   "source": [
    "survey = Table.read_table('welcome_survey_sp24.csv')\n",
    "survey.show(3)"
   ]
  },
  {
   "cell_type": "code",
   "execution_count": 8,
   "metadata": {},
   "outputs": [
    {
     "data": {
      "image/png": "[encoded data removed]",
      "text/plain": [
       "<Figure size 600x400 with 1 Axes>"
      ]
     },
     "metadata": {},
     "output_type": "display_data"
    }
   ],
   "source": [
    "survey.hist('Extraversion')"
   ]
  },
  {
   "cell_type": "code",
   "execution_count": 11,
   "metadata": {},
   "outputs": [
    {
     "data": {
      "text/html": [
       "<table border=\"1\" class=\"dataframe\">\n",
       "    <thead>\n",
       "        <tr>\n",
       "            <th>Extraversion</th> <th>count</th>\n",
       "        </tr>\n",
       "    </thead>\n",
       "    <tbody>\n",
       "        <tr>\n",
       "            <td>1           </td> <td>11   </td>\n",
       "        </tr>\n",
       "        <tr>\n",
       "            <td>2           </td> <td>30   </td>\n",
       "        </tr>\n",
       "        <tr>\n",
       "            <td>3           </td> <td>140  </td>\n",
       "        </tr>\n",
       "        <tr>\n",
       "            <td>4           </td> <td>150  </td>\n",
       "        </tr>\n",
       "        <tr>\n",
       "            <td>5           </td> <td>129  </td>\n",
       "        </tr>\n",
       "        <tr>\n",
       "            <td>6           </td> <td>122  </td>\n",
       "        </tr>\n",
       "        <tr>\n",
       "            <td>7           </td> <td>179  </td>\n",
       "        </tr>\n",
       "        <tr>\n",
       "            <td>8           </td> <td>129  </td>\n",
       "        </tr>\n",
       "        <tr>\n",
       "            <td>9           </td> <td>35   </td>\n",
       "        </tr>\n",
       "        <tr>\n",
       "            <td>10          </td> <td>7    </td>\n",
       "        </tr>\n",
       "    </tbody>\n",
       "</table>"
      ],
      "text/plain": [
       "Extraversion | count\n",
       "1            | 11\n",
       "2            | 30\n",
       "3            | 140\n",
       "4            | 150\n",
       "5            | 129\n",
       "6            | 122\n",
       "7            | 179\n",
       "8            | 129\n",
       "9            | 35\n",
       "10           | 7"
      ]
     },
     "execution_count": 11,
     "metadata": {},
     "output_type": "execute_result"
    }
   ],
   "source": [
    "survey.group(\"Extraversion\")"
   ]
  },
  {
   "cell_type": "code",
   "execution_count": 89,
   "metadata": {},
   "outputs": [
    {
     "data": {
      "image/png": "[encoded data removed]",
      "text/plain": [
       "<Figure size 600x500 with 1 Axes>"
      ]
     },
     "metadata": {},
     "output_type": "display_data"
    }
   ],
   "source": [
    "survey.group(\"Extraversion\").barh('Extraversion')"
   ]
  },
  {
   "cell_type": "markdown",
   "metadata": {},
   "source": [
    "We can do average as well. If we keep all columns in, note that the categorical variables just show up as blank. "
   ]
  },
  {
   "cell_type": "code",
   "execution_count": 12,
   "metadata": {},
   "outputs": [
    {
     "data": {
      "text/html": [
       "<table border=\"1\" class=\"dataframe\">\n",
       "    <thead>\n",
       "        <tr>\n",
       "            <th>Extraversion</th> <th>Year average</th> <th>Number of textees average</th> <th>Hours of sleep average</th> <th>Handedness average</th> <th>Sleep position average</th> <th>Pets average</th> <th>TV average</th> <th>Piercings average</th>\n",
       "        </tr>\n",
       "    </thead>\n",
       "    <tbody>\n",
       "        <tr>\n",
       "            <td>1           </td> <td>            </td> <td>3.18182                  </td> <td>6.81818               </td> <td>                  </td> <td>                      </td> <td>            </td> <td>          </td> <td>1.63636          </td>\n",
       "        </tr>\n",
       "        <tr>\n",
       "            <td>2           </td> <td>            </td> <td>5.36667                  </td> <td>7.01667               </td> <td>                  </td> <td>                      </td> <td>            </td> <td>          </td> <td>1.46667          </td>\n",
       "        </tr>\n",
       "        <tr>\n",
       "            <td>3           </td> <td>            </td> <td>4.53571                  </td> <td>6.95                  </td> <td>                  </td> <td>                      </td> <td>            </td> <td>          </td> <td>2.37857          </td>\n",
       "        </tr>\n",
       "    </tbody>\n",
       "</table>\n",
       "<p>... (7 rows omitted)</p>"
      ],
      "text/plain": [
       "<IPython.core.display.HTML object>"
      ]
     },
     "metadata": {},
     "output_type": "display_data"
    }
   ],
   "source": [
    "grouped_survey = survey.group(\"Extraversion\", np.average)\n",
    "grouped_survey.show(3)"
   ]
  },
  {
   "cell_type": "code",
   "execution_count": 13,
   "metadata": {},
   "outputs": [
    {
     "data": {
      "image/png": "[encoded data removed]",
      "text/plain": [
       "<Figure size 600x600 with 1 Axes>"
      ]
     },
     "metadata": {},
     "output_type": "display_data"
    }
   ],
   "source": [
    "grouped_survey.plot(\"Extraversion\", \"Number of textees average\")"
   ]
  },
  {
   "cell_type": "code",
   "execution_count": 95,
   "metadata": {},
   "outputs": [
    {
     "data": {
      "image/png": "[encoded data removed]",
      "text/plain": [
       "<Figure size 500x500 with 1 Axes>"
      ]
     },
     "metadata": {},
     "output_type": "display_data"
    }
   ],
   "source": [
    "survey.scatter(\"Extraversion\", \"Number of textees\")"
   ]
  },
  {
   "cell_type": "code",
   "execution_count": 97,
   "metadata": {},
   "outputs": [
    {
     "data": {
      "image/png": "[encoded data removed]",
      "text/plain": [
       "<Figure size 500x500 with 1 Axes>"
      ]
     },
     "metadata": {},
     "output_type": "display_data"
    }
   ],
   "source": [
    "grouped_survey.scatter(\"Extraversion\", \"Hours of sleep average\")"
   ]
  },
  {
   "cell_type": "markdown",
   "metadata": {},
   "source": [
    "## Lists"
   ]
  },
  {
   "cell_type": "code",
   "execution_count": 100,
   "metadata": {},
   "outputs": [
    {
     "data": {
      "text/plain": [
       "[1, '2', 3, 4]"
      ]
     },
     "execution_count": 100,
     "metadata": {},
     "output_type": "execute_result"
    }
   ],
   "source": [
    "[1, \"2\", 3, 4]"
   ]
  },
  {
   "cell_type": "code",
   "execution_count": 102,
   "metadata": {},
   "outputs": [
    {
     "data": {
      "text/plain": [
       "[1, 'two', ]"
      ]
     },
     "execution_count": 102,
     "metadata": {},
     "output_type": "execute_result"
    }
   ],
   "source": [
    "t = [1, 'two', Table()]\n",
    "t"
   ]
  },
  {
   "cell_type": "markdown",
   "metadata": {},
   "source": [
    "### Rows from Lists"
   ]
  },
  {
   "cell_type": "code",
   "execution_count": 104,
   "metadata": {},
   "outputs": [
    {
     "data": {
      "text/html": [
       "<table border=\"1\" class=\"dataframe\">\n",
       "    <thead>\n",
       "        <tr>\n",
       "            <th>Numbers</th>\n",
       "        </tr>\n",
       "    </thead>\n",
       "    <tbody>\n",
       "        <tr>\n",
       "            <td>1      </td>\n",
       "        </tr>\n",
       "        <tr>\n",
       "            <td>2      </td>\n",
       "        </tr>\n",
       "        <tr>\n",
       "            <td>3      </td>\n",
       "        </tr>\n",
       "    </tbody>\n",
       "</table>"
      ],
      "text/plain": [
       "Numbers\n",
       "1\n",
       "2\n",
       "3"
      ]
     },
     "execution_count": 104,
     "metadata": {},
     "output_type": "execute_result"
    }
   ],
   "source": [
    "a = Table().with_columns('Numbers', [1, 2, 3])\n",
    "a"
   ]
  },
  {
   "cell_type": "code",
   "execution_count": 18,
   "metadata": {},
   "outputs": [
    {
     "data": {
      "text/html": [
       "<table border=\"1\" class=\"dataframe\">\n",
       "    <thead>\n",
       "        <tr>\n",
       "            <th>Drink</th> <th>Cafe</th> <th>Price</th>\n",
       "        </tr>\n",
       "    </thead>\n",
       "    <tbody>\n",
       "    </tbody>\n",
       "</table>"
      ],
      "text/plain": [
       "Drink | Cafe | Price"
      ]
     },
     "execution_count": 18,
     "metadata": {},
     "output_type": "execute_result"
    }
   ],
   "source": [
    "drinks = Table(['Drink', 'Cafe', 'Price'])\n",
    "drinks"
   ]
  },
  {
   "cell_type": "code",
   "execution_count": 19,
   "metadata": {},
   "outputs": [
    {
     "data": {
      "text/html": [
       "<table border=\"1\" class=\"dataframe\">\n",
       "    <thead>\n",
       "        <tr>\n",
       "            <th>Drink</th> <th>Cafe</th> <th>Price</th>\n",
       "        </tr>\n",
       "    </thead>\n",
       "    <tbody>\n",
       "        <tr>\n",
       "            <td>Milk Tea</td> <td>Asha  </td> <td>5.5  </td>\n",
       "        </tr>\n",
       "        <tr>\n",
       "            <td>Espresso</td> <td>Strada</td> <td>1.75 </td>\n",
       "        </tr>\n",
       "        <tr>\n",
       "            <td>Latte   </td> <td>Strada</td> <td>3.25 </td>\n",
       "        </tr>\n",
       "        <tr>\n",
       "            <td>Espresso</td> <td>FSM   </td> <td>2    </td>\n",
       "        </tr>\n",
       "    </tbody>\n",
       "</table>"
      ],
      "text/plain": [
       "Drink    | Cafe   | Price\n",
       "Milk Tea | Asha   | 5.5\n",
       "Espresso | Strada | 1.75\n",
       "Latte    | Strada | 3.25\n",
       "Espresso | FSM    | 2"
      ]
     },
     "execution_count": 19,
     "metadata": {},
     "output_type": "execute_result"
    }
   ],
   "source": [
    "drinks = drinks.with_rows([\n",
    "    ['Milk Tea', 'Asha', 5.5],\n",
    "    ['Espresso', 'Strada',  1.75],\n",
    "    ['Latte',    'Strada',  3.25],\n",
    "    ['Espresso', \"FSM\",   2]\n",
    "])\n",
    "drinks"
   ]
  },
  {
   "cell_type": "markdown",
   "metadata": {},
   "source": [
    "## Grouping by Two Columns ##"
   ]
  },
  {
   "cell_type": "code",
   "execution_count": 111,
   "metadata": {},
   "outputs": [
    {
     "data": {
      "text/html": [
       "<table border=\"1\" class=\"dataframe\">\n",
       "    <thead>\n",
       "        <tr>\n",
       "            <th>Handedness</th> <th>Sleep position</th> <th>count</th>\n",
       "        </tr>\n",
       "    </thead>\n",
       "    <tbody>\n",
       "        <tr>\n",
       "            <td>Ambidexterous                                          </td> <td>On your stomach   </td> <td>1    </td>\n",
       "        </tr>\n",
       "        <tr>\n",
       "            <td>Ambidextrous                                           </td> <td>On your back      </td> <td>1    </td>\n",
       "        </tr>\n",
       "        <tr>\n",
       "            <td>Ambidextrous                                           </td> <td>On your stomach   </td> <td>1    </td>\n",
       "        </tr>\n",
       "        <tr>\n",
       "            <td>Cross-dominant                                         </td> <td>On your back      </td> <td>1    </td>\n",
       "        </tr>\n",
       "        <tr>\n",
       "            <td>I can write with both but my right hand is much better.</td> <td>On your right side</td> <td>1    </td>\n",
       "        </tr>\n",
       "        <tr>\n",
       "            <td>Left-handed                                            </td> <td>On your back      </td> <td>23   </td>\n",
       "        </tr>\n",
       "        <tr>\n",
       "            <td>Left-handed                                            </td> <td>On your left side </td> <td>24   </td>\n",
       "        </tr>\n",
       "        <tr>\n",
       "            <td>Left-handed                                            </td> <td>On your right side</td> <td>14   </td>\n",
       "        </tr>\n",
       "        <tr>\n",
       "            <td>Left-handed                                            </td> <td>On your stomach   </td> <td>8    </td>\n",
       "        </tr>\n",
       "        <tr>\n",
       "            <td>Right-handed                                           </td> <td>On your back      </td> <td>220  </td>\n",
       "        </tr>\n",
       "    </tbody>\n",
       "</table>\n",
       "<p>... (6 rows omitted)</p>"
      ],
      "text/plain": [
       "Handedness                                              | Sleep position     | count\n",
       "Ambidexterous                                           | On your stomach    | 1\n",
       "Ambidextrous                                            | On your back       | 1\n",
       "Ambidextrous                                            | On your stomach    | 1\n",
       "Cross-dominant                                          | On your back       | 1\n",
       "I can write with both but my right hand is much better. | On your right side | 1\n",
       "Left-handed                                             | On your back       | 23\n",
       "Left-handed                                             | On your left side  | 24\n",
       "Left-handed                                             | On your right side | 14\n",
       "Left-handed                                             | On your stomach    | 8\n",
       "Right-handed                                            | On your back       | 220\n",
       "... (6 rows omitted)"
      ]
     },
     "execution_count": 111,
     "metadata": {},
     "output_type": "execute_result"
    }
   ],
   "source": [
    "survey.group([\"Handedness\", \"Sleep position\"])"
   ]
  },
  {
   "cell_type": "code",
   "execution_count": 113,
   "metadata": {},
   "outputs": [
    {
     "data": {
      "text/html": [
       "<table border=\"1\" class=\"dataframe\">\n",
       "    <thead>\n",
       "        <tr>\n",
       "            <th>Handedness</th> <th>Sleep position</th> <th>count</th>\n",
       "        </tr>\n",
       "    </thead>\n",
       "    <tbody>\n",
       "        <tr>\n",
       "            <td>Ambidexterous                                          </td> <td>On your stomach   </td> <td>1    </td>\n",
       "        </tr>\n",
       "        <tr>\n",
       "            <td>Ambidextrous                                           </td> <td>On your back      </td> <td>1    </td>\n",
       "        </tr>\n",
       "        <tr>\n",
       "            <td>Ambidextrous                                           </td> <td>On your stomach   </td> <td>1    </td>\n",
       "        </tr>\n",
       "        <tr>\n",
       "            <td>Cross-dominant                                         </td> <td>On your back      </td> <td>1    </td>\n",
       "        </tr>\n",
       "        <tr>\n",
       "            <td>I can write with both but my right hand is much better.</td> <td>On your right side</td> <td>1    </td>\n",
       "        </tr>\n",
       "        <tr>\n",
       "            <td>Left-handed                                            </td> <td>On your back      </td> <td>23   </td>\n",
       "        </tr>\n",
       "        <tr>\n",
       "            <td>Left-handed                                            </td> <td>On your left side </td> <td>24   </td>\n",
       "        </tr>\n",
       "        <tr>\n",
       "            <td>Left-handed                                            </td> <td>On your right side</td> <td>14   </td>\n",
       "        </tr>\n",
       "        <tr>\n",
       "            <td>Left-handed                                            </td> <td>On your stomach   </td> <td>8    </td>\n",
       "        </tr>\n",
       "        <tr>\n",
       "            <td>Right-handed                                           </td> <td>On your back      </td> <td>220  </td>\n",
       "        </tr>\n",
       "    </tbody>\n",
       "</table>\n",
       "<p>... (6 rows omitted)</p>"
      ],
      "text/plain": [
       "Handedness                                              | Sleep position     | count\n",
       "Ambidexterous                                           | On your stomach    | 1\n",
       "Ambidextrous                                            | On your back       | 1\n",
       "Ambidextrous                                            | On your stomach    | 1\n",
       "Cross-dominant                                          | On your back       | 1\n",
       "I can write with both but my right hand is much better. | On your right side | 1\n",
       "Left-handed                                             | On your back       | 23\n",
       "Left-handed                                             | On your left side  | 24\n",
       "Left-handed                                             | On your right side | 14\n",
       "Left-handed                                             | On your stomach    | 8\n",
       "Right-handed                                            | On your back       | 220\n",
       "... (6 rows omitted)"
      ]
     },
     "execution_count": 113,
     "metadata": {},
     "output_type": "execute_result"
    }
   ],
   "source": [
    "survey.group([\"Handedness\", 5]) "
   ]
  },
  {
   "cell_type": "markdown",
   "metadata": {},
   "source": [
    "## Pivot Tables"
   ]
  },
  {
   "cell_type": "code",
   "execution_count": 116,
   "metadata": {},
   "outputs": [
    {
     "data": {
      "text/html": [
       "<table border=\"1\" class=\"dataframe\">\n",
       "    <thead>\n",
       "        <tr>\n",
       "            <th>Sleep position</th> <th>Ambidexterous</th> <th>Ambidextrous</th> <th>Cross-dominant</th> <th>I can write with both but my right hand is much better.</th> <th>Left-handed</th> <th>Right-handed</th> <th>ambidextrous</th> <th>both</th>\n",
       "        </tr>\n",
       "    </thead>\n",
       "    <tbody>\n",
       "        <tr>\n",
       "            <td>On your back      </td> <td>0            </td> <td>1           </td> <td>1             </td> <td>0                                                      </td> <td>23         </td> <td>220         </td> <td>1           </td> <td>0   </td>\n",
       "        </tr>\n",
       "        <tr>\n",
       "            <td>On your left side </td> <td>0            </td> <td>0           </td> <td>0             </td> <td>0                                                      </td> <td>24         </td> <td>226         </td> <td>0           </td> <td>1   </td>\n",
       "        </tr>\n",
       "        <tr>\n",
       "            <td>On your right side</td> <td>0            </td> <td>0           </td> <td>0             </td> <td>1                                                      </td> <td>14         </td> <td>294         </td> <td>1           </td> <td>0   </td>\n",
       "        </tr>\n",
       "        <tr>\n",
       "            <td>On your stomach   </td> <td>1            </td> <td>1           </td> <td>0             </td> <td>0                                                      </td> <td>8          </td> <td>115         </td> <td>0           </td> <td>0   </td>\n",
       "        </tr>\n",
       "    </tbody>\n",
       "</table>"
      ],
      "text/plain": [
       "Sleep position     | Ambidexterous | Ambidextrous | Cross-dominant | I can write with both but my right hand is much better. | Left-handed | Right-handed | ambidextrous | both\n",
       "On your back       | 0             | 1            | 1              | 0                                                       | 23          | 220          | 1            | 0\n",
       "On your left side  | 0             | 0            | 0              | 0                                                       | 24          | 226          | 0            | 1\n",
       "On your right side | 0             | 0            | 0              | 1                                                       | 14          | 294          | 1            | 0\n",
       "On your stomach    | 1             | 1            | 0              | 0                                                       | 8           | 115          | 0            | 0"
      ]
     },
     "execution_count": 116,
     "metadata": {},
     "output_type": "execute_result"
    }
   ],
   "source": [
    "survey.pivot(\"Handedness\", \"Sleep position\")"
   ]
  },
  {
   "cell_type": "code",
   "execution_count": 118,
   "metadata": {},
   "outputs": [
    {
     "data": {
      "text/html": [
       "<table border=\"1\" class=\"dataframe\">\n",
       "    <thead>\n",
       "        <tr>\n",
       "            <th>Sleep position</th> <th>Ambidexterous</th> <th>Ambidextrous</th> <th>Cross-dominant</th> <th>I can write with both but my right hand is much better.</th> <th>Left-handed</th> <th>Right-handed</th> <th>ambidextrous</th> <th>both</th>\n",
       "        </tr>\n",
       "    </thead>\n",
       "    <tbody>\n",
       "        <tr>\n",
       "            <td>On your back      </td> <td>0            </td> <td>15          </td> <td>2             </td> <td>0                                                      </td> <td>0          </td> <td>0           </td> <td>10          </td> <td>0   </td>\n",
       "        </tr>\n",
       "        <tr>\n",
       "            <td>On your left side </td> <td>0            </td> <td>0           </td> <td>0             </td> <td>0                                                      </td> <td>2          </td> <td>-10         </td> <td>0           </td> <td>4   </td>\n",
       "        </tr>\n",
       "        <tr>\n",
       "            <td>On your right side</td> <td>0            </td> <td>0           </td> <td>0             </td> <td>8                                                      </td> <td>1          </td> <td>0           </td> <td>10          </td> <td>0   </td>\n",
       "        </tr>\n",
       "        <tr>\n",
       "            <td>On your stomach   </td> <td>9            </td> <td>7           </td> <td>0             </td> <td>0                                                      </td> <td>2          </td> <td>0           </td> <td>0           </td> <td>0   </td>\n",
       "        </tr>\n",
       "    </tbody>\n",
       "</table>"
      ],
      "text/plain": [
       "Sleep position     | Ambidexterous | Ambidextrous | Cross-dominant | I can write with both but my right hand is much better. | Left-handed | Right-handed | ambidextrous | both\n",
       "On your back       | 0             | 15           | 2              | 0                                                       | 0           | 0            | 10           | 0\n",
       "On your left side  | 0             | 0            | 0              | 0                                                       | 2           | -10          | 0            | 4\n",
       "On your right side | 0             | 0            | 0              | 8                                                       | 1           | 0            | 10           | 0\n",
       "On your stomach    | 9             | 7            | 0              | 0                                                       | 2           | 0            | 0            | 0"
      ]
     },
     "execution_count": 118,
     "metadata": {},
     "output_type": "execute_result"
    }
   ],
   "source": [
    "survey.pivot(\"Handedness\", \"Sleep position\", \"Number of textees\", min)"
   ]
  },
  {
   "cell_type": "markdown",
   "metadata": {},
   "source": [
    "## Discussion Questions"
   ]
  },
  {
   "cell_type": "code",
   "execution_count": 120,
   "metadata": {},
   "outputs": [
    {
     "data": {
      "text/html": [
       "<table border=\"1\" class=\"dataframe\">\n",
       "    <thead>\n",
       "        <tr>\n",
       "            <th>name</th> <th>material</th> <th>city</th> <th>height</th> <th>age</th>\n",
       "        </tr>\n",
       "    </thead>\n",
       "    <tbody>\n",
       "        <tr>\n",
       "            <td>One World Trade Center</td> <td>mixed/composite</td> <td>New York City</td> <td>541.3 </td> <td>8   </td>\n",
       "        </tr>\n",
       "        <tr>\n",
       "            <td>Willis Tower          </td> <td>steel          </td> <td>Chicago      </td> <td>442.14</td> <td>48  </td>\n",
       "        </tr>\n",
       "        <tr>\n",
       "            <td>432 Park Avenue       </td> <td>concrete       </td> <td>New York City</td> <td>425.5 </td> <td>7   </td>\n",
       "        </tr>\n",
       "    </tbody>\n",
       "</table>\n",
       "<p>... (1778 rows omitted)</p>"
      ],
      "text/plain": [
       "<IPython.core.display.HTML object>"
      ]
     },
     "metadata": {},
     "output_type": "display_data"
    }
   ],
   "source": [
    "# From the CORGIS Dataset Project\n",
    "# By Austin Cory Bart acbart@vt.edu\n",
    "# Version 2.0.0, created 3/22/2016\n",
    "# https://corgis-edu.github.io/corgis/csv/skyscrapers/\n",
    "\n",
    "sky = Table.read_table('skyscrapers.csv')\n",
    "sky = (sky.with_column('age', 2022 - sky.column('completed'))\n",
    "          .drop('completed'))\n",
    "sky.show(3)"
   ]
  },
  {
   "cell_type": "markdown",
   "metadata": {},
   "source": [
    "- 1. For each city, what’s the tallest building for each material?"
   ]
  },
  {
   "cell_type": "markdown",
   "metadata": {},
   "source": [
    "- 2. For each city, what’s the height difference between the tallest \n",
    "steel building and the tallest concrete building?"
   ]
  },
  {
   "cell_type": "markdown",
   "metadata": {},
   "source": [
    "Maybe a better question, which one of the methods from the first attempt will be easier to work with? for this problem? (Discussion - 1 min)"
   ]
  },
  {
   "cell_type": "markdown",
   "metadata": {},
   "source": [
    "Don't read ahead until you try the challenge questions yourself first!"
   ]
  },
  {
   "cell_type": "markdown",
   "metadata": {},
   "source": [
    "pull away here "
   ]
  },
  {
   "cell_type": "code",
   "execution_count": 122,
   "metadata": {},
   "outputs": [
    {
     "data": {
      "text/html": [
       "<table border=\"1\" class=\"dataframe\">\n",
       "    <thead>\n",
       "        <tr>\n",
       "            <th>city</th> <th>material</th> <th>height max</th>\n",
       "        </tr>\n",
       "    </thead>\n",
       "    <tbody>\n",
       "        <tr>\n",
       "            <td>Atlanta  </td> <td>concrete       </td> <td>264.25    </td>\n",
       "        </tr>\n",
       "        <tr>\n",
       "            <td>Atlanta  </td> <td>mixed/composite</td> <td>311.8     </td>\n",
       "        </tr>\n",
       "        <tr>\n",
       "            <td>Atlanta  </td> <td>steel          </td> <td>169.47    </td>\n",
       "        </tr>\n",
       "        <tr>\n",
       "            <td>Austin   </td> <td>concrete       </td> <td>208.15    </td>\n",
       "        </tr>\n",
       "        <tr>\n",
       "            <td>Austin   </td> <td>steel          </td> <td>93.6      </td>\n",
       "        </tr>\n",
       "        <tr>\n",
       "            <td>Baltimore</td> <td>concrete       </td> <td>161.24    </td>\n",
       "        </tr>\n",
       "        <tr>\n",
       "            <td>Baltimore</td> <td>steel          </td> <td>155.15    </td>\n",
       "        </tr>\n",
       "        <tr>\n",
       "            <td>Boston   </td> <td>concrete       </td> <td>121.92    </td>\n",
       "        </tr>\n",
       "        <tr>\n",
       "            <td>Boston   </td> <td>mixed/composite</td> <td>139       </td>\n",
       "        </tr>\n",
       "        <tr>\n",
       "            <td>Boston   </td> <td>steel          </td> <td>240.79    </td>\n",
       "        </tr>\n",
       "    </tbody>\n",
       "</table>\n",
       "<p>... (81 rows omitted)</p>"
      ],
      "text/plain": [
       "city      | material        | height max\n",
       "Atlanta   | concrete        | 264.25\n",
       "Atlanta   | mixed/composite | 311.8\n",
       "Atlanta   | steel           | 169.47\n",
       "Austin    | concrete        | 208.15\n",
       "Austin    | steel           | 93.6\n",
       "Baltimore | concrete        | 161.24\n",
       "Baltimore | steel           | 155.15\n",
       "Boston    | concrete        | 121.92\n",
       "Boston    | mixed/composite | 139\n",
       "Boston    | steel           | 240.79\n",
       "... (81 rows omitted)"
      ]
     },
     "execution_count": 122,
     "metadata": {},
     "output_type": "execute_result"
    }
   ],
   "source": [
    "sky.select('material', 'city', 'height').group(['city', 'material'], collect=max)"
   ]
  },
  {
   "cell_type": "code",
   "execution_count": 124,
   "metadata": {},
   "outputs": [
    {
     "data": {
      "text/html": [
       "<table border=\"1\" class=\"dataframe\">\n",
       "    <thead>\n",
       "        <tr>\n",
       "            <th>city</th> <th>concrete</th> <th>mixed/composite</th> <th>steel</th>\n",
       "        </tr>\n",
       "    </thead>\n",
       "    <tbody>\n",
       "        <tr>\n",
       "            <td>Atlanta  </td> <td>264.25  </td> <td>311.8          </td> <td>169.47</td>\n",
       "        </tr>\n",
       "        <tr>\n",
       "            <td>Austin   </td> <td>208.15  </td> <td>0              </td> <td>93.6  </td>\n",
       "        </tr>\n",
       "        <tr>\n",
       "            <td>Baltimore</td> <td>161.24  </td> <td>0              </td> <td>155.15</td>\n",
       "        </tr>\n",
       "        <tr>\n",
       "            <td>Boston   </td> <td>121.92  </td> <td>139            </td> <td>240.79</td>\n",
       "        </tr>\n",
       "        <tr>\n",
       "            <td>Charlotte</td> <td>265.48  </td> <td>239.7          </td> <td>179.23</td>\n",
       "        </tr>\n",
       "    </tbody>\n",
       "</table>\n",
       "<p>... (30 rows omitted)</p>"
      ],
      "text/plain": [
       "<IPython.core.display.HTML object>"
      ]
     },
     "metadata": {},
     "output_type": "display_data"
    }
   ],
   "source": [
    "sky_p = sky.pivot('material', 'city', values='height', collect=max)\n",
    "sky_p.show(5)"
   ]
  },
  {
   "cell_type": "code",
   "execution_count": 126,
   "metadata": {},
   "outputs": [
    {
     "data": {
      "text/html": [
       "<table border=\"1\" class=\"dataframe\">\n",
       "    <thead>\n",
       "        <tr>\n",
       "            <th>city</th> <th>concrete</th> <th>mixed/composite</th> <th>steel</th> <th>difference</th>\n",
       "        </tr>\n",
       "    </thead>\n",
       "    <tbody>\n",
       "        <tr>\n",
       "            <td>Atlanta  </td> <td>264.25  </td> <td>311.8          </td> <td>169.47</td> <td>94.78     </td>\n",
       "        </tr>\n",
       "        <tr>\n",
       "            <td>Austin   </td> <td>208.15  </td> <td>0              </td> <td>93.6  </td> <td>114.55    </td>\n",
       "        </tr>\n",
       "        <tr>\n",
       "            <td>Baltimore</td> <td>161.24  </td> <td>0              </td> <td>155.15</td> <td>6.09001   </td>\n",
       "        </tr>\n",
       "        <tr>\n",
       "            <td>Boston   </td> <td>121.92  </td> <td>139            </td> <td>240.79</td> <td>118.87    </td>\n",
       "        </tr>\n",
       "        <tr>\n",
       "            <td>Charlotte</td> <td>265.48  </td> <td>239.7          </td> <td>179.23</td> <td>86.25     </td>\n",
       "        </tr>\n",
       "    </tbody>\n",
       "</table>\n",
       "<p>... (30 rows omitted)</p>"
      ],
      "text/plain": [
       "<IPython.core.display.HTML object>"
      ]
     },
     "metadata": {},
     "output_type": "display_data"
    }
   ],
   "source": [
    "sky_p = sky_p.with_column(\n",
    "    'difference', \n",
    "    abs(sky_p.column('steel') - sky_p.column('concrete'))\n",
    ")\n",
    "sky_p.show(5)"
   ]
  },
  {
   "cell_type": "code",
   "execution_count": 128,
   "metadata": {},
   "outputs": [
    {
     "data": {
      "text/html": [
       "<table border=\"1\" class=\"dataframe\">\n",
       "    <thead>\n",
       "        <tr>\n",
       "            <th>city</th> <th>concrete</th> <th>mixed/composite</th> <th>steel</th> <th>difference</th>\n",
       "        </tr>\n",
       "    </thead>\n",
       "    <tbody>\n",
       "        <tr>\n",
       "            <td>Sunny Isles Beach</td> <td>196     </td> <td>0              </td> <td>0     </td> <td>196       </td>\n",
       "        </tr>\n",
       "        <tr>\n",
       "            <td>Las Vegas        </td> <td>350.22  </td> <td>195.68         </td> <td>164.6 </td> <td>185.62    </td>\n",
       "        </tr>\n",
       "        <tr>\n",
       "            <td>Miami Beach      </td> <td>170.39  </td> <td>0              </td> <td>0     </td> <td>170.39    </td>\n",
       "        </tr>\n",
       "        <tr>\n",
       "            <td>Pittsburgh       </td> <td>89.3    </td> <td>172            </td> <td>256.34</td> <td>167.04    </td>\n",
       "        </tr>\n",
       "        <tr>\n",
       "            <td>Los Angeles      </td> <td>145.7   </td> <td>118.26         </td> <td>310.29</td> <td>164.59    </td>\n",
       "        </tr>\n",
       "        <tr>\n",
       "            <td>Philadelphia     </td> <td>157.89  </td> <td>296.73         </td> <td>288.04</td> <td>130.15    </td>\n",
       "        </tr>\n",
       "        <tr>\n",
       "            <td>Boston           </td> <td>121.92  </td> <td>139            </td> <td>240.79</td> <td>118.87    </td>\n",
       "        </tr>\n",
       "        <tr>\n",
       "            <td>Austin           </td> <td>208.15  </td> <td>0              </td> <td>93.6  </td> <td>114.55    </td>\n",
       "        </tr>\n",
       "        <tr>\n",
       "            <td>Seattle          </td> <td>138.69  </td> <td>284.38         </td> <td>235.31</td> <td>96.62     </td>\n",
       "        </tr>\n",
       "        <tr>\n",
       "            <td>Atlanta          </td> <td>264.25  </td> <td>311.8          </td> <td>169.47</td> <td>94.78     </td>\n",
       "        </tr>\n",
       "    </tbody>\n",
       "</table>\n",
       "<p>... (25 rows omitted)</p>"
      ],
      "text/plain": [
       "city              | concrete | mixed/composite | steel  | difference\n",
       "Sunny Isles Beach | 196      | 0               | 0      | 196\n",
       "Las Vegas         | 350.22   | 195.68          | 164.6  | 185.62\n",
       "Miami Beach       | 170.39   | 0               | 0      | 170.39\n",
       "Pittsburgh        | 89.3     | 172             | 256.34 | 167.04\n",
       "Los Angeles       | 145.7    | 118.26          | 310.29 | 164.59\n",
       "Philadelphia      | 157.89   | 296.73          | 288.04 | 130.15\n",
       "Boston            | 121.92   | 139             | 240.79 | 118.87\n",
       "Austin            | 208.15   | 0               | 93.6   | 114.55\n",
       "Seattle           | 138.69   | 284.38          | 235.31 | 96.62\n",
       "Atlanta           | 264.25   | 311.8           | 169.47 | 94.78\n",
       "... (25 rows omitted)"
      ]
     },
     "execution_count": 128,
     "metadata": {},
     "output_type": "execute_result"
    }
   ],
   "source": [
    "sky_p.sort('difference', True)"
   ]
  },
  {
   "cell_type": "markdown",
   "metadata": {},
   "source": [
    "**Challenge Question**"
   ]
  },
  {
   "cell_type": "markdown",
   "metadata": {},
   "source": [
    "- Generate a table of the names of the oldest buildings for each material for each city. *Hint: You can use sort to find the name of the oldest building in the dataset*!"
   ]
  },
  {
   "cell_type": "code",
   "execution_count": 132,
   "metadata": {},
   "outputs": [
    {
     "data": {
      "text/plain": [
       "'Statue of Liberty'"
      ]
     },
     "execution_count": 132,
     "metadata": {},
     "output_type": "execute_result"
    }
   ],
   "source": [
    "sky.sort('age', descending=True).column('name').item(0)"
   ]
  },
  {
   "cell_type": "code",
   "execution_count": 130,
   "metadata": {},
   "outputs": [
    {
     "data": {
      "text/html": [
       "<table border=\"1\" class=\"dataframe\">\n",
       "    <thead>\n",
       "        <tr>\n",
       "            <th>city</th> <th>concrete</th> <th>mixed/composite</th> <th>steel</th>\n",
       "        </tr>\n",
       "    </thead>\n",
       "    <tbody>\n",
       "        <tr>\n",
       "            <td>Atlanta   </td> <td>Westin Peachtree Plaza          </td> <td>One Atlantic Center                      </td> <td>FlatironCity             </td>\n",
       "        </tr>\n",
       "        <tr>\n",
       "            <td>Austin    </td> <td>One American Center             </td> <td>                                         </td> <td>University of Texas Tower</td>\n",
       "        </tr>\n",
       "        <tr>\n",
       "            <td>Baltimore </td> <td>Charles Towers North Apartments </td> <td>                                         </td> <td>Emerson Tower            </td>\n",
       "        </tr>\n",
       "        <tr>\n",
       "            <td>Boston    </td> <td>Harbor Towers I                 </td> <td>Ellison Building                         </td> <td>Marriott's Custom House  </td>\n",
       "        </tr>\n",
       "        <tr>\n",
       "            <td>Charlotte </td> <td>Bank of America Corporate Center</td> <td>Hearst Tower                             </td> <td>Midtown Plaza            </td>\n",
       "        </tr>\n",
       "        <tr>\n",
       "            <td>Chicago   </td> <td>The Powhatan                    </td> <td>American Furniture Mart                  </td> <td>The Rookery              </td>\n",
       "        </tr>\n",
       "        <tr>\n",
       "            <td>Cincinnati</td> <td>Kroger Building                 </td> <td>Great American Tower at Queen City Square</td> <td>PNC Tower                </td>\n",
       "        </tr>\n",
       "        <tr>\n",
       "            <td>Cleveland </td> <td>National City Center            </td> <td>55 Public Square                         </td> <td>Huntington Bank Building </td>\n",
       "        </tr>\n",
       "        <tr>\n",
       "            <td>Columbus  </td> <td>Key Bank Building               </td> <td>                                         </td> <td>Leveque Tower            </td>\n",
       "        </tr>\n",
       "        <tr>\n",
       "            <td>Dallas    </td> <td>Reunion Tower                   </td> <td>Bank of America Plaza                    </td> <td>Three AT&T Plaza         </td>\n",
       "        </tr>\n",
       "    </tbody>\n",
       "</table>\n",
       "<p>... (25 rows omitted)</p>"
      ],
      "text/plain": [
       "city       | concrete                         | mixed/composite                           | steel\n",
       "Atlanta    | Westin Peachtree Plaza           | One Atlantic Center                       | FlatironCity\n",
       "Austin     | One American Center              |                                           | University of Texas Tower\n",
       "Baltimore  | Charles Towers North Apartments  |                                           | Emerson Tower\n",
       "Boston     | Harbor Towers I                  | Ellison Building                          | Marriott's Custom House\n",
       "Charlotte  | Bank of America Corporate Center | Hearst Tower                              | Midtown Plaza\n",
       "Chicago    | The Powhatan                     | American Furniture Mart                   | The Rookery\n",
       "Cincinnati | Kroger Building                  | Great American Tower at Queen City Square | PNC Tower\n",
       "Cleveland  | National City Center             | 55 Public Square                          | Huntington Bank Building\n",
       "Columbus   | Key Bank Building                |                                           | Leveque Tower\n",
       "Dallas     | Reunion Tower                    | Bank of America Plaza                     | Three AT&T Plaza\n",
       "... (25 rows omitted)"
      ]
     },
     "execution_count": 130,
     "metadata": {},
     "output_type": "execute_result"
    }
   ],
   "source": [
    "def first(s):\n",
    "    \"Return the first element in an array.\"\n",
    "    return s.item(0)\n",
    "\n",
    "(sky\n",
    " .sort('age', descending=True)\n",
    " .pivot('material', 'city', 'name', first)\n",
    ")#.where('city', 'San Francisco')"
   ]
  },
  {
   "cell_type": "markdown",
   "metadata": {},
   "source": [
    "## Joins"
   ]
  },
  {
   "cell_type": "markdown",
   "metadata": {},
   "source": [
    "***Cones***"
   ]
  },
  {
   "cell_type": "code",
   "execution_count": 3,
   "metadata": {},
   "outputs": [
    {
     "data": {
      "text/html": [
       "<table border=\"1\" class=\"dataframe\">\n",
       "    <thead>\n",
       "        <tr>\n",
       "            <th>Flavor</th> <th>Price</th>\n",
       "        </tr>\n",
       "    </thead>\n",
       "    <tbody>\n",
       "        <tr>\n",
       "            <td>strawberry</td> <td>3.55 </td>\n",
       "        </tr>\n",
       "        <tr>\n",
       "            <td>vanilla   </td> <td>4.75 </td>\n",
       "        </tr>\n",
       "        <tr>\n",
       "            <td>chocolate </td> <td>6.55 </td>\n",
       "        </tr>\n",
       "        <tr>\n",
       "            <td>strawberry</td> <td>5.25 </td>\n",
       "        </tr>\n",
       "        <tr>\n",
       "            <td>chocolate </td> <td>5.75 </td>\n",
       "        </tr>\n",
       "    </tbody>\n",
       "</table>"
      ],
      "text/plain": [
       "Flavor     | Price\n",
       "strawberry | 3.55\n",
       "vanilla    | 4.75\n",
       "chocolate  | 6.55\n",
       "strawberry | 5.25\n",
       "chocolate  | 5.75"
      ]
     },
     "execution_count": 3,
     "metadata": {},
     "output_type": "execute_result"
    }
   ],
   "source": [
    "cones = Table().with_columns(\n",
    "    'Flavor', make_array('strawberry', 'vanilla', 'chocolate', 'strawberry', 'chocolate'),\n",
    "    'Price', make_array(3.55, 4.75, 6.55, 5.25, 5.75)\n",
    ")\n",
    "cones"
   ]
  },
  {
   "cell_type": "code",
   "execution_count": 4,
   "metadata": {},
   "outputs": [
    {
     "data": {
      "text/html": [
       "<table border=\"1\" class=\"dataframe\">\n",
       "    <thead>\n",
       "        <tr>\n",
       "            <th>Kind</th> <th>Stars</th>\n",
       "        </tr>\n",
       "    </thead>\n",
       "    <tbody>\n",
       "        <tr>\n",
       "            <td>strawberry</td> <td>2.5  </td>\n",
       "        </tr>\n",
       "        <tr>\n",
       "            <td>chocolate </td> <td>3.5  </td>\n",
       "        </tr>\n",
       "        <tr>\n",
       "            <td>vanilla   </td> <td>4    </td>\n",
       "        </tr>\n",
       "    </tbody>\n",
       "</table>"
      ],
      "text/plain": [
       "Kind       | Stars\n",
       "strawberry | 2.5\n",
       "chocolate  | 3.5\n",
       "vanilla    | 4"
      ]
     },
     "execution_count": 4,
     "metadata": {},
     "output_type": "execute_result"
    }
   ],
   "source": [
    "ratings = Table().with_columns(\n",
    "    'Kind', make_array('strawberry', 'chocolate', 'vanilla'),\n",
    "    'Stars', make_array(2.5, 3.5, 4)\n",
    ")\n",
    "ratings"
   ]
  },
  {
   "cell_type": "code",
   "execution_count": 5,
   "metadata": {},
   "outputs": [
    {
     "data": {
      "text/html": [
       "<table border=\"1\" class=\"dataframe\">\n",
       "    <thead>\n",
       "        <tr>\n",
       "            <th>Flavor</th> <th>Price</th> <th>Stars</th>\n",
       "        </tr>\n",
       "    </thead>\n",
       "    <tbody>\n",
       "        <tr>\n",
       "            <td>chocolate </td> <td>6.55 </td> <td>3.5  </td>\n",
       "        </tr>\n",
       "        <tr>\n",
       "            <td>chocolate </td> <td>5.75 </td> <td>3.5  </td>\n",
       "        </tr>\n",
       "        <tr>\n",
       "            <td>strawberry</td> <td>3.55 </td> <td>2.5  </td>\n",
       "        </tr>\n",
       "        <tr>\n",
       "            <td>strawberry</td> <td>5.25 </td> <td>2.5  </td>\n",
       "        </tr>\n",
       "        <tr>\n",
       "            <td>vanilla   </td> <td>4.75 </td> <td>4    </td>\n",
       "        </tr>\n",
       "    </tbody>\n",
       "</table>"
      ],
      "text/plain": [
       "Flavor     | Price | Stars\n",
       "chocolate  | 6.55  | 3.5\n",
       "chocolate  | 5.75  | 3.5\n",
       "strawberry | 3.55  | 2.5\n",
       "strawberry | 5.25  | 2.5\n",
       "vanilla    | 4.75  | 4"
      ]
     },
     "execution_count": 5,
     "metadata": {},
     "output_type": "execute_result"
    }
   ],
   "source": [
    "rated = cones.join('Flavor', ratings, 'Kind')\n",
    "rated"
   ]
  },
  {
   "cell_type": "markdown",
   "metadata": {},
   "source": [
    "***Drinks***"
   ]
  },
  {
   "cell_type": "code",
   "execution_count": 20,
   "metadata": {},
   "outputs": [
    {
     "data": {
      "text/html": [
       "<table border=\"1\" class=\"dataframe\">\n",
       "    <thead>\n",
       "        <tr>\n",
       "            <th>Drink</th> <th>Cafe</th> <th>Price</th>\n",
       "        </tr>\n",
       "    </thead>\n",
       "    <tbody>\n",
       "        <tr>\n",
       "            <td>Milk Tea</td> <td>Asha  </td> <td>5.5  </td>\n",
       "        </tr>\n",
       "        <tr>\n",
       "            <td>Espresso</td> <td>Strada</td> <td>1.75 </td>\n",
       "        </tr>\n",
       "        <tr>\n",
       "            <td>Latte   </td> <td>Strada</td> <td>3.25 </td>\n",
       "        </tr>\n",
       "        <tr>\n",
       "            <td>Espresso</td> <td>FSM   </td> <td>2    </td>\n",
       "        </tr>\n",
       "    </tbody>\n",
       "</table>"
      ],
      "text/plain": [
       "Drink    | Cafe   | Price\n",
       "Milk Tea | Asha   | 5.5\n",
       "Espresso | Strada | 1.75\n",
       "Latte    | Strada | 3.25\n",
       "Espresso | FSM    | 2"
      ]
     },
     "execution_count": 20,
     "metadata": {},
     "output_type": "execute_result"
    }
   ],
   "source": [
    "drinks"
   ]
  },
  {
   "cell_type": "code",
   "execution_count": 27,
   "metadata": {},
   "outputs": [
    {
     "data": {
      "text/html": [
       "<table border=\"1\" class=\"dataframe\">\n",
       "    <thead>\n",
       "        <tr>\n",
       "            <th>Coupon % off</th> <th>Location</th>\n",
       "        </tr>\n",
       "    </thead>\n",
       "    <tbody>\n",
       "        <tr>\n",
       "            <td>10          </td> <td>Asha    </td>\n",
       "        </tr>\n",
       "        <tr>\n",
       "            <td>25          </td> <td>Strada  </td>\n",
       "        </tr>\n",
       "        <tr>\n",
       "            <td>5           </td> <td>FSM     </td>\n",
       "        </tr>\n",
       "    </tbody>\n",
       "</table>"
      ],
      "text/plain": [
       "Coupon % off | Location\n",
       "10           | Asha\n",
       "25           | Strada\n",
       "5            | FSM"
      ]
     },
     "execution_count": 27,
     "metadata": {},
     "output_type": "execute_result"
    }
   ],
   "source": [
    "discounts = Table().with_columns(\n",
    "    'Coupon % off', make_array(10, 25, 5),\n",
    "    'Location', make_array('Asha', 'Strada', 'FSM')\n",
    ")\n",
    "discounts"
   ]
  },
  {
   "cell_type": "code",
   "execution_count": 28,
   "metadata": {},
   "outputs": [
    {
     "data": {
      "text/html": [
       "<table border=\"1\" class=\"dataframe\">\n",
       "    <thead>\n",
       "        <tr>\n",
       "            <th>Cafe</th> <th>Drink</th> <th>Price</th> <th>Coupon % off</th>\n",
       "        </tr>\n",
       "    </thead>\n",
       "    <tbody>\n",
       "        <tr>\n",
       "            <td>Asha  </td> <td>Milk Tea</td> <td>5.5  </td> <td>10          </td>\n",
       "        </tr>\n",
       "        <tr>\n",
       "            <td>FSM   </td> <td>Espresso</td> <td>2    </td> <td>5           </td>\n",
       "        </tr>\n",
       "        <tr>\n",
       "            <td>Strada</td> <td>Espresso</td> <td>1.75 </td> <td>25          </td>\n",
       "        </tr>\n",
       "        <tr>\n",
       "            <td>Strada</td> <td>Latte   </td> <td>3.25 </td> <td>25          </td>\n",
       "        </tr>\n",
       "    </tbody>\n",
       "</table>"
      ],
      "text/plain": [
       "Cafe   | Drink    | Price | Coupon % off\n",
       "Asha   | Milk Tea | 5.5   | 10\n",
       "FSM    | Espresso | 2     | 5\n",
       "Strada | Espresso | 1.75  | 25\n",
       "Strada | Latte    | 3.25  | 25"
      ]
     },
     "execution_count": 28,
     "metadata": {},
     "output_type": "execute_result"
    }
   ],
   "source": [
    "combined = drinks.join('Cafe', discounts, 'Location')\n",
    "combined"
   ]
  },
  {
   "cell_type": "code",
   "execution_count": 25,
   "metadata": {},
   "outputs": [],
   "source": [
    "discounted_frac = 1 - combined.column('Coupon % off') / 100"
   ]
  },
  {
   "cell_type": "code",
   "execution_count": 29,
   "metadata": {},
   "outputs": [
    {
     "data": {
      "text/html": [
       "<table border=\"1\" class=\"dataframe\">\n",
       "    <thead>\n",
       "        <tr>\n",
       "            <th>Cafe</th> <th>Drink</th> <th>Price</th> <th>Coupon % off</th> <th>Discounted Price</th>\n",
       "        </tr>\n",
       "    </thead>\n",
       "    <tbody>\n",
       "        <tr>\n",
       "            <td>Asha  </td> <td>Milk Tea</td> <td>5.5  </td> <td>10          </td> <td>4.95            </td>\n",
       "        </tr>\n",
       "        <tr>\n",
       "            <td>FSM   </td> <td>Espresso</td> <td>2    </td> <td>5           </td> <td>1.9             </td>\n",
       "        </tr>\n",
       "        <tr>\n",
       "            <td>Strada</td> <td>Espresso</td> <td>1.75 </td> <td>25          </td> <td>1.3125          </td>\n",
       "        </tr>\n",
       "        <tr>\n",
       "            <td>Strada</td> <td>Latte   </td> <td>3.25 </td> <td>25          </td> <td>2.4375          </td>\n",
       "        </tr>\n",
       "    </tbody>\n",
       "</table>"
      ],
      "text/plain": [
       "Cafe   | Drink    | Price | Coupon % off | Discounted Price\n",
       "Asha   | Milk Tea | 5.5   | 10           | 4.95\n",
       "FSM    | Espresso | 2     | 5            | 1.9\n",
       "Strada | Espresso | 1.75  | 25           | 1.3125\n",
       "Strada | Latte    | 3.25  | 25           | 2.4375"
      ]
     },
     "execution_count": 29,
     "metadata": {},
     "output_type": "execute_result"
    }
   ],
   "source": [
    "combined.with_column(\n",
    "    'Discounted Price', \n",
    "    combined.column('Price') * discounted_frac\n",
    ")"
   ]
  },
  {
   "cell_type": "code",
   "execution_count": 31,
   "metadata": {},
   "outputs": [],
   "source": [
    "#drinks.join('Cafe', drinks, 'Cafe')"
   ]
  },
  {
   "cell_type": "code",
   "execution_count": null,
   "metadata": {},
   "outputs": [],
   "source": []
  }
 ],
 "metadata": {
  "anaconda-cloud": {},
  "kernelspec": {
   "display_name": "Python 3 (ipykernel)",
   "language": "python",
   "name": "python3"
  },
  "language_info": {
   "codemirror_mode": {
    "name": "ipython",
    "version": 3
   },
   "file_extension": ".py",
   "mimetype": "text/x-python",
   "name": "python",
   "nbconvert_exporter": "python",
   "pygments_lexer": "ipython3",
   "version": "3.12.1"
  }
 },
 "nbformat": 4,
 "nbformat_minor": 4
}
